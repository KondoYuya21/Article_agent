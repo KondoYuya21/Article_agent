{
 "cells": [
  {
   "cell_type": "markdown",
   "metadata": {},
   "source": [
    "Build an Agent"
   ]
  },
  {
   "cell_type": "markdown",
   "metadata": {},
   "source": [
    "全体像"
   ]
  },
  {
   "cell_type": "code",
   "execution_count": 5,
   "metadata": {},
   "outputs": [
    {
     "name": "stdout",
     "output_type": "stream",
     "text": [
      "{'agent': {'messages': [AIMessage(content=\"Hi Bob! It's great to meet you. How can I assist you today?\", additional_kwargs={'refusal': None}, response_metadata={'token_usage': {'completion_tokens': 18, 'prompt_tokens': 88, 'total_tokens': 106, 'prompt_tokens_details': {'cached_tokens': 0, 'audio_tokens': 0}, 'completion_tokens_details': {'reasoning_tokens': 0, 'audio_tokens': 0, 'accepted_prediction_tokens': 0, 'rejected_prediction_tokens': 0}}, 'model_name': 'gpt-4o-mini-2024-07-18', 'system_fingerprint': 'fp_72ed7ab54c', 'finish_reason': 'stop', 'logprobs': None}, id='run-7b2d4302-d1ea-445a-a2af-180c582d8d5c-0', usage_metadata={'input_tokens': 88, 'output_tokens': 18, 'total_tokens': 106})]}}\n",
      "----\n",
      "{'agent': {'messages': [AIMessage(content='', additional_kwargs={'tool_calls': [{'id': 'call_ITOuUufwQPygWmH7vmniZgMc', 'function': {'arguments': '{\"query\":\"San Francisco weather\"}', 'name': 'tavily_search_results_json'}, 'type': 'function'}], 'refusal': None}, response_metadata={'token_usage': {'completion_tokens': 21, 'prompt_tokens': 120, 'total_tokens': 141, 'prompt_tokens_details': {'cached_tokens': 0, 'audio_tokens': 0}, 'completion_tokens_details': {'reasoning_tokens': 0, 'audio_tokens': 0, 'accepted_prediction_tokens': 0, 'rejected_prediction_tokens': 0}}, 'model_name': 'gpt-4o-mini-2024-07-18', 'system_fingerprint': 'fp_72ed7ab54c', 'finish_reason': 'tool_calls', 'logprobs': None}, id='run-2b590b96-35a0-4d42-b6c2-ee014a216ad1-0', tool_calls=[{'name': 'tavily_search_results_json', 'args': {'query': 'San Francisco weather'}, 'id': 'call_ITOuUufwQPygWmH7vmniZgMc', 'type': 'tool_call'}], usage_metadata={'input_tokens': 120, 'output_tokens': 21, 'total_tokens': 141})]}}\n",
      "----\n",
      "{'tools': {'messages': [ToolMessage(content='[{\"url\": \"https://www.weatherapi.com/\", \"content\": \"{\\'location\\': {\\'name\\': \\'San Francisco\\', \\'region\\': \\'California\\', \\'country\\': \\'United States of America\\', \\'lat\\': 37.775, \\'lon\\': -122.4183, \\'tz_id\\': \\'America/Los_Angeles\\', \\'localtime_epoch\\': 1737877759, \\'localtime\\': \\'2025-01-25 23:49\\'}, \\'current\\': {\\'last_updated_epoch\\': 1737877500, \\'last_updated\\': \\'2025-01-25 23:45\\', \\'temp_c\\': 8.3, \\'temp_f\\': 46.9, \\'is_day\\': 0, \\'condition\\': {\\'text\\': \\'Partly cloudy\\', \\'icon\\': \\'//cdn.weatherapi.com/weather/64x64/night/116.png\\', \\'code\\': 1003}, \\'wind_mph\\': 11.6, \\'wind_kph\\': 18.7, \\'wind_degree\\': 30, \\'wind_dir\\': \\'NNE\\', \\'pressure_mb\\': 1012.0, \\'pressure_in\\': 29.89, \\'precip_mm\\': 0.0, \\'precip_in\\': 0.0, \\'humidity\\': 65, \\'cloud\\': 75, \\'feelslike_c\\': 5.4, \\'feelslike_f\\': 41.7, \\'windchill_c\\': 7.2, \\'windchill_f\\': 45.0, \\'heatindex_c\\': 9.1, \\'heatindex_f\\': 48.3, \\'dewpoint_c\\': -0.2, \\'dewpoint_f\\': 31.7, \\'vis_km\\': 16.0, \\'vis_miles\\': 9.0, \\'uv\\': 0.0, \\'gust_mph\\': 18.0, \\'gust_kph\\': 28.9}}\"}, {\"url\": \"https://www.peoplesweather.com/weather/San+Francisco/?date=2025-01-26\", \"content\": \"Weather for San Francisco | People°s Weather Home Weather News MyPhoto Competitions Contact Us Home Weather Forecast News & Highlights MyPhoto Competitions Contact Us Get the weather for Johannesburg Weather for San Francisco Weather United States San Francisco Sunday 26 January 2025 7°CFeels like: 4°CNNE / 17km/hGentle BreezeOvercast. Cold Pressure1014mbHumidity51%Rain0%Cloud Cover92%Dew Point1°C This Afternoon11°CNNE / 18km/hGentle BreezeSunny. Cool Tonight9°CWNW / 9km/hLight BreezeClear. Cool 6 Day Forecast for San Francisco Weather Detailed Forecast SA National Parks iSimangaliso Popular Submit your Photo Contact us Careers News Room Newsletter Subscribe Now Terms of Use Privacy Sitemap © 2007-2025 People°s Weather Pty. Ltd., All rights reserved.\"}]', name='tavily_search_results_json', id='01f32e1a-fa53-405d-a5a7-ad960683fc55', tool_call_id='call_ITOuUufwQPygWmH7vmniZgMc', artifact={'query': 'San Francisco weather', 'follow_up_questions': None, 'answer': None, 'images': [], 'results': [{'title': 'Weather in San Francisco', 'url': 'https://www.weatherapi.com/', 'content': \"{'location': {'name': 'San Francisco', 'region': 'California', 'country': 'United States of America', 'lat': 37.775, 'lon': -122.4183, 'tz_id': 'America/Los_Angeles', 'localtime_epoch': 1737877759, 'localtime': '2025-01-25 23:49'}, 'current': {'last_updated_epoch': 1737877500, 'last_updated': '2025-01-25 23:45', 'temp_c': 8.3, 'temp_f': 46.9, 'is_day': 0, 'condition': {'text': 'Partly cloudy', 'icon': '//cdn.weatherapi.com/weather/64x64/night/116.png', 'code': 1003}, 'wind_mph': 11.6, 'wind_kph': 18.7, 'wind_degree': 30, 'wind_dir': 'NNE', 'pressure_mb': 1012.0, 'pressure_in': 29.89, 'precip_mm': 0.0, 'precip_in': 0.0, 'humidity': 65, 'cloud': 75, 'feelslike_c': 5.4, 'feelslike_f': 41.7, 'windchill_c': 7.2, 'windchill_f': 45.0, 'heatindex_c': 9.1, 'heatindex_f': 48.3, 'dewpoint_c': -0.2, 'dewpoint_f': 31.7, 'vis_km': 16.0, 'vis_miles': 9.0, 'uv': 0.0, 'gust_mph': 18.0, 'gust_kph': 28.9}}\", 'score': 0.9758357, 'raw_content': None}, {'title': 'Weather for San Francisco | People°s Weather', 'url': 'https://www.peoplesweather.com/weather/San+Francisco/?date=2025-01-26', 'content': 'Weather for San Francisco | People°s Weather Home Weather News MyPhoto Competitions Contact Us Home Weather Forecast News & Highlights MyPhoto Competitions Contact Us Get the weather for Johannesburg Weather for San Francisco Weather United States San Francisco Sunday 26 January 2025 7°CFeels like: 4°CNNE / 17km/hGentle BreezeOvercast. Cold Pressure1014mbHumidity51%Rain0%Cloud Cover92%Dew Point1°C This Afternoon11°CNNE / 18km/hGentle BreezeSunny. Cool Tonight9°CWNW / 9km/hLight BreezeClear. Cool 6 Day Forecast for San Francisco Weather Detailed Forecast SA National Parks iSimangaliso Popular Submit your Photo Contact us Careers News Room Newsletter Subscribe Now Terms of Use Privacy Sitemap © 2007-2025 People°s Weather Pty. Ltd., All rights reserved.', 'score': 0.96339977, 'raw_content': None}], 'response_time': 1.93})]}}\n",
      "----\n",
      "{'agent': {'messages': [AIMessage(content=\"The current weather in San Francisco is as follows:\\n\\n- **Temperature**: 8.3°C (46.9°F)\\n- **Condition**: Partly cloudy\\n- **Feels Like**: 5.4°C (41.7°F)\\n- **Wind**: 11.6 mph (18.7 kph) from the North-Northeast\\n- **Humidity**: 65%\\n- **Cloud Cover**: 75%\\n- **Visibility**: 16 km (9 miles)\\n\\nIt looks like it's a bit cold, so you might want to dress warmly if you're heading out!\\n\\nIf you'd like more detailed forecasts or information, let me know!\", additional_kwargs={'refusal': None}, response_metadata={'token_usage': {'completion_tokens': 140, 'prompt_tokens': 767, 'total_tokens': 907, 'prompt_tokens_details': {'cached_tokens': 0, 'audio_tokens': 0}, 'completion_tokens_details': {'reasoning_tokens': 0, 'audio_tokens': 0, 'accepted_prediction_tokens': 0, 'rejected_prediction_tokens': 0}}, 'model_name': 'gpt-4o-mini-2024-07-18', 'system_fingerprint': 'fp_72ed7ab54c', 'finish_reason': 'stop', 'logprobs': None}, id='run-c159a139-ba85-4d59-b494-1c8bfa9fbe3f-0', usage_metadata={'input_tokens': 767, 'output_tokens': 140, 'total_tokens': 907})]}}\n",
      "----\n"
     ]
    }
   ],
   "source": [
    "# ライブラリのインポート\n",
    "import os\n",
    "from dotenv import load_dotenv\n",
    "from langchain_openai import ChatOpenAI\n",
    "from langchain_community.tools.tavily_search import TavilySearchResults\n",
    "from langchain_core.messages import HumanMessage\n",
    "from langgraph.checkpoint.memory import MemorySaver\n",
    "from langgraph.prebuilt import create_react_agent\n",
    "\n",
    "load_dotenv()\n",
    "\n",
    "\n",
    "#LangchainのAPIを渡す\n",
    "os.environ[\"LANGCHAIN_TRACING\"] = \"true\"\n",
    "os.environ[\"LANGCHAIN_API_KEY\"] = os.getenv(\"LANGCHAIN_API_KEY\")\n",
    "\n",
    "#GPTのAPIを渡す\n",
    "os.environ[\"OPENAI_API_KEY\"] = os.getenv(\"OPENAI_API_KEY\")\n",
    "\n",
    "# エージェントの作成\n",
    "memory = MemorySaver()\n",
    "model = ChatOpenAI(model=\"gpt-4o-mini\")\n",
    "search = TavilySearchResults(max_results=2)\n",
    "tools = [search]\n",
    "agent_executor = create_react_agent(model, tools, checkpointer=memory)\n",
    "\n",
    "# エージェントの使用\n",
    "config = {\"configurable\": {\"thread_id\": \"abc123\"}}\n",
    "for chunk in agent_executor.stream(\n",
    "    {\"messages\": [HumanMessage(content=\"hi im bob! and i live in sf\")]}, config\n",
    "):\n",
    "    print(chunk)\n",
    "    print(\"----\")\n",
    "\n",
    "for chunk in agent_executor.stream(\n",
    "    {\"messages\": [HumanMessage(content=\"whats the weather where I live?\")]}, config\n",
    "):\n",
    "    print(chunk)\n",
    "    print(\"----\")"
   ]
  },
  {
   "cell_type": "markdown",
   "metadata": {},
   "source": [
    "APIキーのダウンロード"
   ]
  },
  {
   "cell_type": "code",
   "execution_count": 2,
   "metadata": {},
   "outputs": [],
   "source": [
    "import os\n",
    "from dotenv import load_dotenv\n",
    "\n",
    "load_dotenv()\n",
    "\n",
    "\n",
    "#LangchainのAPIを渡す\n",
    "os.environ[\"LANGCHAIN_TRACING\"] = \"true\"\n",
    "os.environ[\"LANGCHAIN_API_KEY\"] = os.getenv(\"LANGCHAIN_API_KEY\")\n",
    "\n",
    "#GPTのAPIを渡す\n",
    "os.environ[\"OPENAI_API_KEY\"] = os.getenv(\"OPENAI_API_KEY\")\n",
    "\n",
    "#TavilyのAPIを渡す\n",
    "os.environ[\"TAVILY_API_KEY\"] = os.getenv(\"TAVILY_API_KEY\")"
   ]
  },
  {
   "cell_type": "markdown",
   "metadata": {},
   "source": [
    "ツールの定義"
   ]
  },
  {
   "cell_type": "code",
   "execution_count": 3,
   "metadata": {},
   "outputs": [
    {
     "name": "stdout",
     "output_type": "stream",
     "text": [
      "[{'url': 'https://www.weatherapi.com/', 'content': \"{'location': {'name': 'San Francisco', 'region': 'California', 'country': 'United States of America', 'lat': 37.775, 'lon': -122.4183, 'tz_id': 'America/Los_Angeles', 'localtime_epoch': 1737877759, 'localtime': '2025-01-25 23:49'}, 'current': {'last_updated_epoch': 1737877500, 'last_updated': '2025-01-25 23:45', 'temp_c': 8.3, 'temp_f': 46.9, 'is_day': 0, 'condition': {'text': 'Partly cloudy', 'icon': '//cdn.weatherapi.com/weather/64x64/night/116.png', 'code': 1003}, 'wind_mph': 11.6, 'wind_kph': 18.7, 'wind_degree': 30, 'wind_dir': 'NNE', 'pressure_mb': 1012.0, 'pressure_in': 29.89, 'precip_mm': 0.0, 'precip_in': 0.0, 'humidity': 65, 'cloud': 75, 'feelslike_c': 5.4, 'feelslike_f': 41.7, 'windchill_c': 7.2, 'windchill_f': 45.0, 'heatindex_c': 9.1, 'heatindex_f': 48.3, 'dewpoint_c': -0.2, 'dewpoint_f': 31.7, 'vis_km': 16.0, 'vis_miles': 9.0, 'uv': 0.0, 'gust_mph': 18.0, 'gust_kph': 28.9}}\"}, {'url': 'https://weathershogun.com/weather/usa/ca/san-francisco/480/january/2025-01-26', 'content': 'San Francisco, California weather forecast for Sunday, January 26, 2025. Get the latest on temperature, precipitation, wind speed, and UV. Plan your day with accurate weather updates.'}]\n"
     ]
    }
   ],
   "source": [
    "from langchain_community.tools.tavily_search import TavilySearchResults\n",
    "\n",
    "search = TavilySearchResults(max_results=2)\n",
    "search_results = search.invoke(\"what is the weather in SF\")\n",
    "print(search_results)\n",
    "# If we want, we can create other tools.\n",
    "# Once we have all the tools we want, we can put them in a list that we will reference later.\n",
    "tools = [search] #おそらくこのリストに他にも使いたいツールを格納していく"
   ]
  },
  {
   "cell_type": "markdown",
   "metadata": {},
   "source": [
    "言語モデルの定義"
   ]
  },
  {
   "cell_type": "code",
   "execution_count": 4,
   "metadata": {},
   "outputs": [
    {
     "data": {
      "text/plain": [
       "'Hello! How can I assist you today?'"
      ]
     },
     "execution_count": 4,
     "metadata": {},
     "output_type": "execute_result"
    }
   ],
   "source": [
    "from langchain_openai import ChatOpenAI\n",
    "\n",
    "#ChatOpenAIでチャットモデルを渡す（モデルは変更できる）\n",
    "model = ChatOpenAI(model=\"gpt-4o-mini\")\n",
    "\n",
    "from langchain_core.messages import HumanMessage\n",
    "\n",
    "response = model.invoke([HumanMessage(content=\"hi!\")])\n",
    "response.content"
   ]
  },
  {
   "cell_type": "code",
   "execution_count": 6,
   "metadata": {},
   "outputs": [
    {
     "name": "stdout",
     "output_type": "stream",
     "text": [
      "ContentString: Hello! How can I assist you today?\n",
      "ToolCalls: []\n"
     ]
    }
   ],
   "source": [
    "#ツール呼び出しを行う　.bind_tools\n",
    "model_with_tools = model.bind_tools(tools)\n",
    "\n",
    "#modelの代わりにmodel_with_toolsを使う\n",
    "response = model_with_tools.invoke([HumanMessage(content=\"Hi!\")])\n",
    "\n",
    "print(f\"ContentString: {response.content}\")\n",
    "print(f\"ToolCalls: {response.tool_calls}\")"
   ]
  },
  {
   "cell_type": "code",
   "execution_count": 7,
   "metadata": {},
   "outputs": [
    {
     "name": "stdout",
     "output_type": "stream",
     "text": [
      "ContentString: \n",
      "ToolCalls: [{'name': 'tavily_search_results_json', 'args': {'query': 'current weather in San Francisco'}, 'id': 'call_ClN023edMwSjXgcFrOrcxOV6', 'type': 'tool_call'}]\n"
     ]
    }
   ],
   "source": [
    "#ツールの利用が想定される入力の場合\n",
    "response = model_with_tools.invoke([HumanMessage(content=\"What's the weather in SF?\")])\n",
    "\n",
    "print(f\"ContentString: {response.content}\")\n",
    "print(f\"ToolCalls: {response.tool_calls}\")"
   ]
  },
  {
   "cell_type": "markdown",
   "metadata": {},
   "source": [
    "エージェントの作成"
   ]
  },
  {
   "cell_type": "code",
   "execution_count": 8,
   "metadata": {},
   "outputs": [],
   "source": [
    "from langgraph.prebuilt import create_react_agent\n",
    "\n",
    "#注意　model_with_toolsではなくmodelを渡している\n",
    "#内部動作として、.bind_toolsを呼び出しているため\n",
    "agent_executor = create_react_agent(model, tools)"
   ]
  },
  {
   "cell_type": "markdown",
   "metadata": {},
   "source": [
    "エージェントの実行"
   ]
  },
  {
   "cell_type": "code",
   "execution_count": 9,
   "metadata": {},
   "outputs": [
    {
     "data": {
      "text/plain": [
       "[HumanMessage(content='hi!', id='b875da6c-3211-49aa-bb07-7727dde92ba9'),\n",
       " AIMessage(content='Hello! How can I assist you today?', additional_kwargs={'refusal': None}, response_metadata={'token_usage': {'completion_tokens': 11, 'prompt_tokens': 81, 'total_tokens': 92, 'prompt_tokens_details': {'cached_tokens': 0, 'audio_tokens': 0}, 'completion_tokens_details': {'reasoning_tokens': 0, 'audio_tokens': 0, 'accepted_prediction_tokens': 0, 'rejected_prediction_tokens': 0}}, 'model_name': 'gpt-4o-mini-2024-07-18', 'system_fingerprint': 'fp_bd83329f63', 'finish_reason': 'stop', 'logprobs': None}, id='run-463db84f-361c-4589-8ad6-63f1983946b9-0', usage_metadata={'input_tokens': 81, 'output_tokens': 11, 'total_tokens': 92})]"
      ]
     },
     "execution_count": 9,
     "metadata": {},
     "output_type": "execute_result"
    }
   ],
   "source": [
    "response = agent_executor.invoke({\"messages\": [HumanMessage(content=\"hi!\")]})\n",
    "\n",
    "response[\"messages\"]"
   ]
  },
  {
   "cell_type": "code",
   "execution_count": 10,
   "metadata": {},
   "outputs": [
    {
     "data": {
      "text/plain": [
       "[HumanMessage(content='whats the weather in sf?', id='da678807-e7c2-45e5-8a01-540ce78fbf5d'),\n",
       " AIMessage(content='', additional_kwargs={'tool_calls': [{'id': 'call_fVSIqWNp4lUABI9CPfTSytiO', 'function': {'arguments': '{\"query\":\"current weather in San Francisco\"}', 'name': 'tavily_search_results_json'}, 'type': 'function'}], 'refusal': None}, response_metadata={'token_usage': {'completion_tokens': 23, 'prompt_tokens': 86, 'total_tokens': 109, 'prompt_tokens_details': {'cached_tokens': 0, 'audio_tokens': 0}, 'completion_tokens_details': {'reasoning_tokens': 0, 'audio_tokens': 0, 'accepted_prediction_tokens': 0, 'rejected_prediction_tokens': 0}}, 'model_name': 'gpt-4o-mini-2024-07-18', 'system_fingerprint': 'fp_72ed7ab54c', 'finish_reason': 'tool_calls', 'logprobs': None}, id='run-595fc1c6-0e57-49d4-bd30-7bcb24b67595-0', tool_calls=[{'name': 'tavily_search_results_json', 'args': {'query': 'current weather in San Francisco'}, 'id': 'call_fVSIqWNp4lUABI9CPfTSytiO', 'type': 'tool_call'}], usage_metadata={'input_tokens': 86, 'output_tokens': 23, 'total_tokens': 109}),\n",
       " ToolMessage(content='[{\"url\": \"https://www.weatherapi.com/\", \"content\": \"{\\'location\\': {\\'name\\': \\'San Francisco\\', \\'region\\': \\'California\\', \\'country\\': \\'United States of America\\', \\'lat\\': 37.775, \\'lon\\': -122.4183, \\'tz_id\\': \\'America/Los_Angeles\\', \\'localtime_epoch\\': 1737878889, \\'localtime\\': \\'2025-01-26 00:08\\'}, \\'current\\': {\\'last_updated_epoch\\': 1737878400, \\'last_updated\\': \\'2025-01-26 00:00\\', \\'temp_c\\': 8.3, \\'temp_f\\': 46.9, \\'is_day\\': 0, \\'condition\\': {\\'text\\': \\'Partly cloudy\\', \\'icon\\': \\'//cdn.weatherapi.com/weather/64x64/night/116.png\\', \\'code\\': 1003}, \\'wind_mph\\': 11.0, \\'wind_kph\\': 17.6, \\'wind_degree\\': 49, \\'wind_dir\\': \\'NE\\', \\'pressure_mb\\': 1012.0, \\'pressure_in\\': 29.89, \\'precip_mm\\': 0.0, \\'precip_in\\': 0.0, \\'humidity\\': 65, \\'cloud\\': 75, \\'feelslike_c\\': 5.5, \\'feelslike_f\\': 41.9, \\'windchill_c\\': 6.3, \\'windchill_f\\': 43.3, \\'heatindex_c\\': 8.3, \\'heatindex_f\\': 47.0, \\'dewpoint_c\\': 0.1, \\'dewpoint_f\\': 32.2, \\'vis_km\\': 16.0, \\'vis_miles\\': 9.0, \\'uv\\': 0.0, \\'gust_mph\\': 16.9, \\'gust_kph\\': 27.3}}\"}, {\"url\": \"https://weathershogun.com/weather/usa/ca/san-francisco/480/january/2025-01-26\", \"content\": \"San Francisco, California weather forecast for Sunday, January 26, 2025. Get the latest on temperature, precipitation, wind speed, and UV. Plan your day with accurate weather updates.\"}]', name='tavily_search_results_json', id='9f7e4c31-1315-45f4-8d57-8c47127302e8', tool_call_id='call_fVSIqWNp4lUABI9CPfTSytiO', artifact={'query': 'current weather in San Francisco', 'follow_up_questions': None, 'answer': None, 'images': [], 'results': [{'title': 'Weather in San Francisco', 'url': 'https://www.weatherapi.com/', 'content': \"{'location': {'name': 'San Francisco', 'region': 'California', 'country': 'United States of America', 'lat': 37.775, 'lon': -122.4183, 'tz_id': 'America/Los_Angeles', 'localtime_epoch': 1737878889, 'localtime': '2025-01-26 00:08'}, 'current': {'last_updated_epoch': 1737878400, 'last_updated': '2025-01-26 00:00', 'temp_c': 8.3, 'temp_f': 46.9, 'is_day': 0, 'condition': {'text': 'Partly cloudy', 'icon': '//cdn.weatherapi.com/weather/64x64/night/116.png', 'code': 1003}, 'wind_mph': 11.0, 'wind_kph': 17.6, 'wind_degree': 49, 'wind_dir': 'NE', 'pressure_mb': 1012.0, 'pressure_in': 29.89, 'precip_mm': 0.0, 'precip_in': 0.0, 'humidity': 65, 'cloud': 75, 'feelslike_c': 5.5, 'feelslike_f': 41.9, 'windchill_c': 6.3, 'windchill_f': 43.3, 'heatindex_c': 8.3, 'heatindex_f': 47.0, 'dewpoint_c': 0.1, 'dewpoint_f': 32.2, 'vis_km': 16.0, 'vis_miles': 9.0, 'uv': 0.0, 'gust_mph': 16.9, 'gust_kph': 27.3}}\", 'score': 0.9221852, 'raw_content': None}, {'title': 'Sunday, January 26, 2025. San Francisco, CA - Weather Forecast', 'url': 'https://weathershogun.com/weather/usa/ca/san-francisco/480/january/2025-01-26', 'content': 'San Francisco, California weather forecast for Sunday, January 26, 2025. Get the latest on temperature, precipitation, wind speed, and UV. Plan your day with accurate weather updates.', 'score': 0.89545894, 'raw_content': None}], 'response_time': 2.07}),\n",
       " AIMessage(content='The current weather in San Francisco is as follows:\\n\\n- **Temperature**: 8.3°C (46.9°F)\\n- **Condition**: Partly cloudy\\n- **Wind Speed**: 11.0 mph (17.6 kph) from the NE\\n- **Humidity**: 65%\\n- **Cloud Cover**: 75%\\n- **Feels Like**: 5.5°C (41.9°F)\\n\\nFor more details, you can check [WeatherAPI](https://www.weatherapi.com/) or [Weather Shogun](https://weathershogun.com/weather/usa/ca/san-francisco/480/january/2025-01-26).', additional_kwargs={'refusal': None}, response_metadata={'token_usage': {'completion_tokens': 147, 'prompt_tokens': 602, 'total_tokens': 749, 'prompt_tokens_details': {'cached_tokens': 0, 'audio_tokens': 0}, 'completion_tokens_details': {'reasoning_tokens': 0, 'audio_tokens': 0, 'accepted_prediction_tokens': 0, 'rejected_prediction_tokens': 0}}, 'model_name': 'gpt-4o-mini-2024-07-18', 'system_fingerprint': 'fp_72ed7ab54c', 'finish_reason': 'stop', 'logprobs': None}, id='run-aec5b303-87ee-48e3-b99e-9b40956f8507-0', usage_metadata={'input_tokens': 602, 'output_tokens': 147, 'total_tokens': 749})]"
      ]
     },
     "execution_count": 10,
     "metadata": {},
     "output_type": "execute_result"
    }
   ],
   "source": [
    "response = agent_executor.invoke(\n",
    "    {\"messages\": [HumanMessage(content=\"whats the weather in sf?\")]}\n",
    ")\n",
    "response[\"messages\"]"
   ]
  },
  {
   "cell_type": "markdown",
   "metadata": {},
   "source": [
    "ストリーミングでの回答の収集"
   ]
  },
  {
   "cell_type": "code",
   "execution_count": 11,
   "metadata": {},
   "outputs": [
    {
     "name": "stdout",
     "output_type": "stream",
     "text": [
      "{'agent': {'messages': [AIMessage(content='', additional_kwargs={'tool_calls': [{'id': 'call_HOJ4R4tng5uEsaMoVA5yaelx', 'function': {'arguments': '{\"query\":\"current weather in San Francisco\"}', 'name': 'tavily_search_results_json'}, 'type': 'function'}], 'refusal': None}, response_metadata={'token_usage': {'completion_tokens': 23, 'prompt_tokens': 86, 'total_tokens': 109, 'prompt_tokens_details': {'cached_tokens': 0, 'audio_tokens': 0}, 'completion_tokens_details': {'reasoning_tokens': 0, 'audio_tokens': 0, 'accepted_prediction_tokens': 0, 'rejected_prediction_tokens': 0}}, 'model_name': 'gpt-4o-mini-2024-07-18', 'system_fingerprint': 'fp_72ed7ab54c', 'finish_reason': 'tool_calls', 'logprobs': None}, id='run-ac5426be-ccfa-4aa4-a314-5475e6446507-0', tool_calls=[{'name': 'tavily_search_results_json', 'args': {'query': 'current weather in San Francisco'}, 'id': 'call_HOJ4R4tng5uEsaMoVA5yaelx', 'type': 'tool_call'}], usage_metadata={'input_tokens': 86, 'output_tokens': 23, 'total_tokens': 109})]}}\n",
      "----\n",
      "{'tools': {'messages': [ToolMessage(content='[{\"url\": \"https://www.weatherapi.com/\", \"content\": \"{\\'location\\': {\\'name\\': \\'San Francisco\\', \\'region\\': \\'California\\', \\'country\\': \\'United States of America\\', \\'lat\\': 37.775, \\'lon\\': -122.4183, \\'tz_id\\': \\'America/Los_Angeles\\', \\'localtime_epoch\\': 1737878889, \\'localtime\\': \\'2025-01-26 00:08\\'}, \\'current\\': {\\'last_updated_epoch\\': 1737878400, \\'last_updated\\': \\'2025-01-26 00:00\\', \\'temp_c\\': 8.3, \\'temp_f\\': 46.9, \\'is_day\\': 0, \\'condition\\': {\\'text\\': \\'Partly cloudy\\', \\'icon\\': \\'//cdn.weatherapi.com/weather/64x64/night/116.png\\', \\'code\\': 1003}, \\'wind_mph\\': 11.0, \\'wind_kph\\': 17.6, \\'wind_degree\\': 49, \\'wind_dir\\': \\'NE\\', \\'pressure_mb\\': 1012.0, \\'pressure_in\\': 29.89, \\'precip_mm\\': 0.0, \\'precip_in\\': 0.0, \\'humidity\\': 65, \\'cloud\\': 75, \\'feelslike_c\\': 5.5, \\'feelslike_f\\': 41.9, \\'windchill_c\\': 6.3, \\'windchill_f\\': 43.3, \\'heatindex_c\\': 8.3, \\'heatindex_f\\': 47.0, \\'dewpoint_c\\': 0.1, \\'dewpoint_f\\': 32.2, \\'vis_km\\': 16.0, \\'vis_miles\\': 9.0, \\'uv\\': 0.0, \\'gust_mph\\': 16.9, \\'gust_kph\\': 27.3}}\"}, {\"url\": \"https://weathershogun.com/weather/usa/ca/san-francisco/480/january/2025-01-26\", \"content\": \"San Francisco, California weather forecast for Sunday, January 26, 2025. Get the latest on temperature, precipitation, wind speed, and UV. Plan your day with accurate weather updates.\"}]', name='tavily_search_results_json', id='e3eb7ce1-15ab-49c5-afd3-fcc0d4b9034b', tool_call_id='call_HOJ4R4tng5uEsaMoVA5yaelx', artifact={'query': 'current weather in San Francisco', 'follow_up_questions': None, 'answer': None, 'images': [], 'results': [{'title': 'Weather in San Francisco', 'url': 'https://www.weatherapi.com/', 'content': \"{'location': {'name': 'San Francisco', 'region': 'California', 'country': 'United States of America', 'lat': 37.775, 'lon': -122.4183, 'tz_id': 'America/Los_Angeles', 'localtime_epoch': 1737878889, 'localtime': '2025-01-26 00:08'}, 'current': {'last_updated_epoch': 1737878400, 'last_updated': '2025-01-26 00:00', 'temp_c': 8.3, 'temp_f': 46.9, 'is_day': 0, 'condition': {'text': 'Partly cloudy', 'icon': '//cdn.weatherapi.com/weather/64x64/night/116.png', 'code': 1003}, 'wind_mph': 11.0, 'wind_kph': 17.6, 'wind_degree': 49, 'wind_dir': 'NE', 'pressure_mb': 1012.0, 'pressure_in': 29.89, 'precip_mm': 0.0, 'precip_in': 0.0, 'humidity': 65, 'cloud': 75, 'feelslike_c': 5.5, 'feelslike_f': 41.9, 'windchill_c': 6.3, 'windchill_f': 43.3, 'heatindex_c': 8.3, 'heatindex_f': 47.0, 'dewpoint_c': 0.1, 'dewpoint_f': 32.2, 'vis_km': 16.0, 'vis_miles': 9.0, 'uv': 0.0, 'gust_mph': 16.9, 'gust_kph': 27.3}}\", 'score': 0.9767686, 'raw_content': None}, {'title': 'Sunday, January 26, 2025. San Francisco, CA - Weather Forecast', 'url': 'https://weathershogun.com/weather/usa/ca/san-francisco/480/january/2025-01-26', 'content': 'San Francisco, California weather forecast for Sunday, January 26, 2025. Get the latest on temperature, precipitation, wind speed, and UV. Plan your day with accurate weather updates.', 'score': 0.89545894, 'raw_content': None}], 'response_time': 2.45})]}}\n",
      "----\n",
      "{'agent': {'messages': [AIMessage(content='The current weather in San Francisco is partly cloudy with a temperature of 8.3°C (46.9°F). Here are some additional details:\\n\\n- **Wind Speed**: 11.0 mph (17.6 kph) from the northeast\\n- **Humidity**: 65%\\n- **Visibility**: 16 km (9 miles)\\n- **Feels Like**: 5.5°C (41.9°F)\\n\\nFor more details, you can check [Weather API](https://www.weatherapi.com/) or [Weather Shogun](https://weathershogun.com/weather/usa/ca/san-francisco/480/january/2025-01-26).', additional_kwargs={'refusal': None}, response_metadata={'token_usage': {'completion_tokens': 145, 'prompt_tokens': 602, 'total_tokens': 747, 'prompt_tokens_details': {'cached_tokens': 0, 'audio_tokens': 0}, 'completion_tokens_details': {'reasoning_tokens': 0, 'audio_tokens': 0, 'accepted_prediction_tokens': 0, 'rejected_prediction_tokens': 0}}, 'model_name': 'gpt-4o-mini-2024-07-18', 'system_fingerprint': 'fp_72ed7ab54c', 'finish_reason': 'stop', 'logprobs': None}, id='run-83338d9c-2f88-41bb-965b-f5dc71068289-0', usage_metadata={'input_tokens': 602, 'output_tokens': 145, 'total_tokens': 747})]}}\n",
      "----\n"
     ]
    }
   ],
   "source": [
    "for chunk in agent_executor.stream(\n",
    "    {\"messages\": [HumanMessage(content=\"whats the weather in sf?\")]}\n",
    "):\n",
    "    print(chunk)\n",
    "    print(\"----\")"
   ]
  },
  {
   "cell_type": "markdown",
   "metadata": {},
   "source": [
    "トークン数をストリーミングで返す"
   ]
  },
  {
   "cell_type": "code",
   "execution_count": 12,
   "metadata": {},
   "outputs": [
    {
     "name": "stderr",
     "output_type": "stream",
     "text": [
      "/var/folders/qn/x585scf11mjdjvnxlv33htj40000gn/T/ipykernel_45705/2442860291.py:1: LangChainBetaWarning: This API is in beta and may change in the future.\n",
      "  async for event in agent_executor.astream_events(\n"
     ]
    },
    {
     "name": "stdout",
     "output_type": "stream",
     "text": [
      "--\n",
      "Starting tool: tavily_search_results_json with inputs: {'query': 'current weather in San Francisco'}\n",
      "Done tool: tavily_search_results_json\n",
      "Tool output was: content='[{\"url\": \"https://www.weatherapi.com/\", \"content\": \"{\\'location\\': {\\'name\\': \\'San Francisco\\', \\'region\\': \\'California\\', \\'country\\': \\'United States of America\\', \\'lat\\': 37.775, \\'lon\\': -122.4183, \\'tz_id\\': \\'America/Los_Angeles\\', \\'localtime_epoch\\': 1737879016, \\'localtime\\': \\'2025-01-26 00:10\\'}, \\'current\\': {\\'last_updated_epoch\\': 1737878400, \\'last_updated\\': \\'2025-01-26 00:00\\', \\'temp_c\\': 8.3, \\'temp_f\\': 46.9, \\'is_day\\': 0, \\'condition\\': {\\'text\\': \\'Partly cloudy\\', \\'icon\\': \\'//cdn.weatherapi.com/weather/64x64/night/116.png\\', \\'code\\': 1003}, \\'wind_mph\\': 11.0, \\'wind_kph\\': 17.6, \\'wind_degree\\': 49, \\'wind_dir\\': \\'NE\\', \\'pressure_mb\\': 1012.0, \\'pressure_in\\': 29.89, \\'precip_mm\\': 0.0, \\'precip_in\\': 0.0, \\'humidity\\': 65, \\'cloud\\': 75, \\'feelslike_c\\': 5.5, \\'feelslike_f\\': 41.9, \\'windchill_c\\': 6.3, \\'windchill_f\\': 43.3, \\'heatindex_c\\': 8.3, \\'heatindex_f\\': 47.0, \\'dewpoint_c\\': 0.1, \\'dewpoint_f\\': 32.2, \\'vis_km\\': 16.0, \\'vis_miles\\': 9.0, \\'uv\\': 0.0, \\'gust_mph\\': 16.9, \\'gust_kph\\': 27.3}}\"}, {\"url\": \"https://weathershogun.com/weather/usa/ca/san-francisco/480/january/2025-01-26\", \"content\": \"San Francisco, California weather forecast for Sunday, January 26, 2025. Get the latest on temperature, precipitation, wind speed, and UV. ... °F °C Today Tomorrow Hourly 7 days 30 days January San Francisco, California Weather: Sunday, January 26, 2025. Sunny weather, clear skies and sunny weather. Day 61\"}]' name='tavily_search_results_json' tool_call_id='call_LFoNztEuoSaTJ1zuXWZY8mXx' artifact={'query': 'current weather in San Francisco', 'follow_up_questions': None, 'answer': None, 'images': [], 'results': [{'title': 'Weather in San Francisco', 'url': 'https://www.weatherapi.com/', 'content': \"{'location': {'name': 'San Francisco', 'region': 'California', 'country': 'United States of America', 'lat': 37.775, 'lon': -122.4183, 'tz_id': 'America/Los_Angeles', 'localtime_epoch': 1737879016, 'localtime': '2025-01-26 00:10'}, 'current': {'last_updated_epoch': 1737878400, 'last_updated': '2025-01-26 00:00', 'temp_c': 8.3, 'temp_f': 46.9, 'is_day': 0, 'condition': {'text': 'Partly cloudy', 'icon': '//cdn.weatherapi.com/weather/64x64/night/116.png', 'code': 1003}, 'wind_mph': 11.0, 'wind_kph': 17.6, 'wind_degree': 49, 'wind_dir': 'NE', 'pressure_mb': 1012.0, 'pressure_in': 29.89, 'precip_mm': 0.0, 'precip_in': 0.0, 'humidity': 65, 'cloud': 75, 'feelslike_c': 5.5, 'feelslike_f': 41.9, 'windchill_c': 6.3, 'windchill_f': 43.3, 'heatindex_c': 8.3, 'heatindex_f': 47.0, 'dewpoint_c': 0.1, 'dewpoint_f': 32.2, 'vis_km': 16.0, 'vis_miles': 9.0, 'uv': 0.0, 'gust_mph': 16.9, 'gust_kph': 27.3}}\", 'score': 0.9991549, 'raw_content': None}, {'title': 'Sunday, January 26, 2025. San Francisco, CA - Weather Forecast', 'url': 'https://weathershogun.com/weather/usa/ca/san-francisco/480/january/2025-01-26', 'content': 'San Francisco, California weather forecast for Sunday, January 26, 2025. Get the latest on temperature, precipitation, wind speed, and UV. ... °F °C Today Tomorrow Hourly 7 days 30 days January San Francisco, California Weather: Sunday, January 26, 2025. Sunny weather, clear skies and sunny weather. Day 61', 'score': 0.9240941, 'raw_content': None}], 'response_time': 2.14}\n",
      "--\n",
      "The| current| weather| in| San| Francisco| is| as| follows|:\n",
      "\n",
      "|-| **|Temperature|:**| |8|.|3|°C| (|46|.|9|°F|)\n",
      "|-| **|Condition|:**| Part|ly| cloudy|\n",
      "|-| **|Wind|:**| |11|.|0| mph| (|17|.|6| k|ph|)| from| the| northeast|\n",
      "|-| **|Humidity|:**| |65|%\n",
      "|-| **|Visibility|:**| |16| km| (|9| miles|)\n",
      "|-| **|Feels| Like|:**| |5|.|5|°C| (|41|.|9|°F|)\n",
      "\n",
      "|For| more| detailed| information|,| you| can| check| the| full| weather| report| [|here|](|https|://|www|.weather|api|.com|/|).|"
     ]
    }
   ],
   "source": [
    "async for event in agent_executor.astream_events(\n",
    "    {\"messages\": [HumanMessage(content=\"whats the weather in sf?\")]}, version=\"v1\"\n",
    "):\n",
    "    kind = event[\"event\"]\n",
    "    if kind == \"on_chain_start\":\n",
    "        if (\n",
    "            event[\"name\"] == \"Agent\"\n",
    "        ):  # Was assigned when creating the agent with `.with_config({\"run_name\": \"Agent\"})`\n",
    "            print(\n",
    "                f\"Starting agent: {event['name']} with input: {event['data'].get('input')}\"\n",
    "            )\n",
    "    elif kind == \"on_chain_end\":\n",
    "        if (\n",
    "            event[\"name\"] == \"Agent\"\n",
    "        ):  # Was assigned when creating the agent with `.with_config({\"run_name\": \"Agent\"})`\n",
    "            print()\n",
    "            print(\"--\")\n",
    "            print(\n",
    "                f\"Done agent: {event['name']} with output: {event['data'].get('output')['output']}\"\n",
    "            )\n",
    "    if kind == \"on_chat_model_stream\":\n",
    "        content = event[\"data\"][\"chunk\"].content\n",
    "        if content:\n",
    "            # Empty content in the context of OpenAI means\n",
    "            # that the model is asking for a tool to be invoked.\n",
    "            # So we only print non-empty content\n",
    "            print(content, end=\"|\")\n",
    "    elif kind == \"on_tool_start\":\n",
    "        print(\"--\")\n",
    "        print(\n",
    "            f\"Starting tool: {event['name']} with inputs: {event['data'].get('input')}\"\n",
    "        )\n",
    "    elif kind == \"on_tool_end\":\n",
    "        print(f\"Done tool: {event['name']}\")\n",
    "        print(f\"Tool output was: {event['data'].get('output')}\")\n",
    "        print(\"--\")"
   ]
  },
  {
   "cell_type": "markdown",
   "metadata": {},
   "source": [
    "ステートレスからメモリの保存ありに変更"
   ]
  },
  {
   "cell_type": "code",
   "execution_count": 13,
   "metadata": {},
   "outputs": [],
   "source": [
    "from langgraph.checkpoint.memory import MemorySaver\n",
    "\n",
    "memory = MemorySaver()\n",
    "\n",
    "agent_executor = create_react_agent(model, tools, checkpointer=memory)\n",
    "\n",
    "config = {\"configurable\": {\"thread_id\": \"abc123\"}}"
   ]
  },
  {
   "cell_type": "code",
   "execution_count": 14,
   "metadata": {},
   "outputs": [
    {
     "name": "stdout",
     "output_type": "stream",
     "text": [
      "{'agent': {'messages': [AIMessage(content='Hello Bob! How can I assist you today?', additional_kwargs={'refusal': None}, response_metadata={'token_usage': {'completion_tokens': 12, 'prompt_tokens': 83, 'total_tokens': 95, 'prompt_tokens_details': {'cached_tokens': 0, 'audio_tokens': 0}, 'completion_tokens_details': {'reasoning_tokens': 0, 'audio_tokens': 0, 'accepted_prediction_tokens': 0, 'rejected_prediction_tokens': 0}}, 'model_name': 'gpt-4o-mini-2024-07-18', 'system_fingerprint': 'fp_72ed7ab54c', 'finish_reason': 'stop', 'logprobs': None}, id='run-814da686-82e8-4643-930d-e56475c64de3-0', usage_metadata={'input_tokens': 83, 'output_tokens': 12, 'total_tokens': 95})]}}\n",
      "----\n"
     ]
    }
   ],
   "source": [
    "for chunk in agent_executor.stream(\n",
    "    {\"messages\": [HumanMessage(content=\"hi im bob!\")]}, config\n",
    "):\n",
    "    print(chunk)\n",
    "    print(\"----\")"
   ]
  },
  {
   "cell_type": "code",
   "execution_count": 15,
   "metadata": {},
   "outputs": [
    {
     "name": "stdout",
     "output_type": "stream",
     "text": [
      "{'agent': {'messages': [AIMessage(content='Your name is Bob. How can I help you today, Bob?', additional_kwargs={'refusal': None}, response_metadata={'token_usage': {'completion_tokens': 16, 'prompt_tokens': 106, 'total_tokens': 122, 'prompt_tokens_details': {'cached_tokens': 0, 'audio_tokens': 0}, 'completion_tokens_details': {'reasoning_tokens': 0, 'audio_tokens': 0, 'accepted_prediction_tokens': 0, 'rejected_prediction_tokens': 0}}, 'model_name': 'gpt-4o-mini-2024-07-18', 'system_fingerprint': 'fp_72ed7ab54c', 'finish_reason': 'stop', 'logprobs': None}, id='run-a9f7c5c7-7fcd-4909-9748-0fe8ec9b4c01-0', usage_metadata={'input_tokens': 106, 'output_tokens': 16, 'total_tokens': 122})]}}\n",
      "----\n"
     ]
    }
   ],
   "source": [
    "for chunk in agent_executor.stream(\n",
    "    {\"messages\": [HumanMessage(content=\"whats my name?\")]}, config\n",
    "):\n",
    "    print(chunk)\n",
    "    print(\"----\")"
   ]
  },
  {
   "cell_type": "code",
   "execution_count": 16,
   "metadata": {},
   "outputs": [
    {
     "name": "stdout",
     "output_type": "stream",
     "text": [
      "{'agent': {'messages': [AIMessage(content=\"I don't have access to personal data about users unless it has been shared with me in the course of our conversation. Therefore, I don't know your name. However, if you'd like to share it or let me know how I can assist you, feel free to do so!\", additional_kwargs={'refusal': None}, response_metadata={'token_usage': {'completion_tokens': 57, 'prompt_tokens': 84, 'total_tokens': 141, 'prompt_tokens_details': {'cached_tokens': 0, 'audio_tokens': 0}, 'completion_tokens_details': {'reasoning_tokens': 0, 'audio_tokens': 0, 'accepted_prediction_tokens': 0, 'rejected_prediction_tokens': 0}}, 'model_name': 'gpt-4o-mini-2024-07-18', 'system_fingerprint': 'fp_bd83329f63', 'finish_reason': 'stop', 'logprobs': None}, id='run-cb23cf59-5d28-4344-921b-8b3047a66412-0', usage_metadata={'input_tokens': 84, 'output_tokens': 57, 'total_tokens': 141})]}}\n",
      "----\n"
     ]
    }
   ],
   "source": [
    "config = {\"configurable\": {\"thread_id\": \"xyz123\"}}\n",
    "for chunk in agent_executor.stream(\n",
    "    {\"messages\": [HumanMessage(content=\"whats my name?\")]}, config\n",
    "):\n",
    "    print(chunk)\n",
    "    print(\"----\")"
   ]
  },
  {
   "cell_type": "code",
   "execution_count": null,
   "metadata": {},
   "outputs": [],
   "source": []
  }
 ],
 "metadata": {
  "kernelspec": {
   "display_name": "Python 3",
   "language": "python",
   "name": "python3"
  },
  "language_info": {
   "codemirror_mode": {
    "name": "ipython",
    "version": 3
   },
   "file_extension": ".py",
   "mimetype": "text/x-python",
   "name": "python",
   "nbconvert_exporter": "python",
   "pygments_lexer": "ipython3",
   "version": "3.12.3"
  }
 },
 "nbformat": 4,
 "nbformat_minor": 2
}
