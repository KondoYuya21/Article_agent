{
 "cells": [
  {
   "cell_type": "markdown",
   "metadata": {},
   "source": [
    "v1 "
   ]
  },
  {
   "cell_type": "markdown",
   "metadata": {},
   "source": [
    "ライブラリのインポート"
   ]
  },
  {
   "cell_type": "code",
   "execution_count": 32,
   "metadata": {},
   "outputs": [],
   "source": [
    "# ライブラリのインポート\n",
    "import os\n",
    "from dotenv import load_dotenv\n",
    "from langchain_openai import ChatOpenAI\n",
    "from langchain_community.tools.tavily_search import TavilySearchResults\n",
    "from langchain_core.messages import HumanMessage\n",
    "from langgraph.checkpoint.memory import MemorySaver\n",
    "from langchain_core.prompts import ChatPromptTemplate\n",
    "from langgraph.graph import END, START, StateGraph\n",
    "from langgraph.prebuilt import create_react_agent\n",
    "from typing import List\n",
    "from typing_extensions import TypedDict\n",
    "from pydantic import BaseModel, Field\n",
    "\n",
    "load_dotenv()\n",
    "\n",
    "\n",
    "#LangchainのAPIを渡す\n",
    "os.environ[\"LANGCHAIN_TRACING\"] = \"true\"\n",
    "os.environ[\"LANGCHAIN_API_KEY\"] = os.getenv(\"LANGCHAIN_API_KEY\")\n",
    "\n",
    "#GPTのAPIを渡す\n",
    "os.environ[\"OPENAI_API_KEY\"] = os.getenv(\"OPENAI_API_KEY\")\n",
    "\n",
    "#TavilyのAPIを渡す\n",
    "os.environ[\"TAVILY_API_KEY\"] = os.getenv(\"TAVILY_API_KEY\")\n"
   ]
  },
  {
   "cell_type": "markdown",
   "metadata": {},
   "source": [
    "出力の型を定義"
   ]
  },
  {
   "cell_type": "code",
   "execution_count": 33,
   "metadata": {},
   "outputs": [],
   "source": [
    "class OutputArticle(BaseModel):\n",
    "    title: str = Field(description=\"記事のタイトル\")\n",
    "    main_text: str = Field(description=\"記事の中身\")"
   ]
  },
  {
   "cell_type": "markdown",
   "metadata": {},
   "source": [
    "LLMの定義"
   ]
  },
  {
   "cell_type": "code",
   "execution_count": 34,
   "metadata": {},
   "outputs": [],
   "source": [
    "#ツールを利用するエージェント\n",
    "#ChatOpenAIでチャットモデルを渡す（モデルは変更できる）\n",
    "model = ChatOpenAI(model=\"gpt-4o-mini\")\n",
    "\n",
    "# Tavilyの定義　max_results:何件文の検索結果を保持するか\n",
    "search = TavilySearchResults(\n",
    "    max_results=2,\n",
    "    search_depth=\"advanced\",\n",
    "    include_answer=True,\n",
    "    include_raw_content=True\n",
    ")\n",
    "tools = [search]\n",
    "\n",
    "agent_executor = create_react_agent(model, tools)"
   ]
  },
  {
   "cell_type": "code",
   "execution_count": 35,
   "metadata": {},
   "outputs": [],
   "source": [
    "#記事作成を行うエージェント\n",
    "system_template = '''\n",
    "あなたは記事作成を行うエージェントです。これから与えられる##検索結果を用いて、##コンテンツについての記事を日本語で作成してください\n",
    "\n",
    "##検索結果\n",
    "{search_result}\n",
    "\n",
    "##コンテンツ\n",
    "{content}\n",
    "\n",
    "'''\n",
    "\n",
    "extract_prompt = ChatPromptTemplate.from_messages(\n",
    "    [\n",
    "        (\"user\", system_template),\n",
    "    ]\n",
    ")\n",
    "extract_trends = model.with_structured_output(\n",
    "    OutputArticle\n",
    ")\n",
    "trend_extractor = extract_prompt | extract_trends\n"
   ]
  },
  {
   "cell_type": "markdown",
   "metadata": {},
   "source": [
    "グラフの作成"
   ]
  },
  {
   "cell_type": "code",
   "execution_count": 36,
   "metadata": {},
   "outputs": [],
   "source": [
    "class State(TypedDict):\n",
    "    content: str #ユーザーが入力した記事の内容\n",
    "    search_result: str #LLMが調査を行った結果を格納\n",
    "    title: str #生成された記事のタイトル\n",
    "    main_text:str #生成された記事の内容"
   ]
  },
  {
   "cell_type": "code",
   "execution_count": 37,
   "metadata": {},
   "outputs": [],
   "source": [
    "def search_agent(state: State):\n",
    "    response = agent_executor.invoke({\"messages\": [{\"role\": \"user\", \"content\": f\"{state['content']}について調査をして、まとめてください\"}]})\n",
    "    state[\"search_result\"] = response[\"messages\"][-1].content\n",
    "    return state\n",
    "\n",
    "def generate_article(state: State):\n",
    "    response = trend_extractor.invoke(state)\n",
    "    state[\"title\"] = response.title\n",
    "    state[\"main_text\"] = response.main_text\n",
    "    return state"
   ]
  },
  {
   "cell_type": "code",
   "execution_count": 38,
   "metadata": {},
   "outputs": [],
   "source": [
    "workflow = StateGraph(State)\n",
    "\n",
    "workflow.add_node(\"search_agent\", search_agent)\n",
    "workflow.add_node(\"generate_article\", generate_article)\n",
    "\n",
    "workflow.add_edge(START, \"search_agent\")\n",
    "workflow.add_edge(\"search_agent\", \"generate_article\")\n",
    "workflow.add_edge(\"generate_article\", END)\n",
    "\n",
    "app = workflow.compile()\n"
   ]
  },
  {
   "cell_type": "code",
   "execution_count": 39,
   "metadata": {},
   "outputs": [
    {
     "data": {
      "image/png": "[encoded data removed]",
      "text/plain": [
       "<IPython.core.display.Image object>"
      ]
     },
     "metadata": {},
     "output_type": "display_data"
    }
   ],
   "source": [
    "from IPython.display import Image, display\n",
    "\n",
    "display(Image(app.get_graph(xray=True).draw_mermaid_png()))\n",
    "from IPython.display import Image, display\n"
   ]
  },
  {
   "cell_type": "code",
   "execution_count": 42,
   "metadata": {},
   "outputs": [],
   "source": [
    "initial_state = State()\n",
    "initial_state[\"content\"] = \"大谷翔平\"\n"
   ]
  },
  {
   "cell_type": "code",
   "execution_count": 43,
   "metadata": {},
   "outputs": [
    {
     "name": "stdout",
     "output_type": "stream",
     "text": [
      "{'content': '大谷翔平', 'search_result': '大谷翔平（Ohtani Shohei）は、日本のプロ野球選手であり、メジャーリーグベースボール（MLB）で活躍する二刀流プレーヤーです。彼は1994年7月5日に岩手県で生まれ、花巻東高等学校から2012年に北海道日本ハムファイターズにドラフト1位指名で入団しました。\\n\\n### 早期キャリア\\n大谷は高校時代からその高い程の球速（160km/h）で注目を浴び、プロ入り後は投手・打者としての才能を発揮しました。2013年から2017年まで北海道日本ハムでプレーし、この間には2016年に日本一を経験し、また軽快な打撃と抜群の制球力で多くのタイトルを獲得しました。\\n\\n### メジャーリーグキャリア\\n2018年、大谷はロサンゼルス・エンゼルスに移籍し、大リーグでのデビューを果たしました。デビューシーズンにおいて、彼はアメリカンリーグの新人王に輝き、投打両面での活躍が高く評価されました。特に彼の「二刀流」は近年のプロ野球界でも注目されており、先発投手としても打者としても成果を上げています。\\n\\n### 成績と受賞歴\\n2021年にはアメリカンリーグMVPにも選ばれ、鈴木一朗に次いで日本出身選手としては二人目の栄誉を手にしました。2023年シーズンには44本のホームランを打ち、再びMVPを獲得。彼の巧みな打撃技術とピッチングは、彼を現代のベーブ・ルースと呼ばれるほどの選手としています。\\n\\n### 2023年の移籍\\n2023年12月、大谷はロサンゼルス・ドジャースに移籍し、10年の契約を結びました。この契約は世界のスポーツ史上でも最も高額なものであり、約7億ドルに達しました。移籍後の彼のプレーにも大きな期待が寄せられています。\\n\\n### 国際舞台での活躍\\n彼は日本代表としても活躍し、2023年のワールド・ベースボール・クラシックではチームを優勝に導き、自らもMVPに選出されました。\\n\\n### 個人生活\\n大谷はそのプレースタイルの魅力だけでなく、謙虚で冷静な人柄でも知られています。日本国内外でのブランドアンバサダーとしても活躍しており、様々な企業との契約を結んでいます。\\n\\n大谷翔平はこれからも野球界での主演としてさらなる高みに挑むことが期待されています。詳しい情報は、[Wikipedia](https://zh.wikipedia.org/zh-tw/大谷翔平)や[Full-Count](https://full-count.jp/category/mlb/shohei-ohtani/)で確認できます。'}\n",
      "{'content': '大谷翔平', 'search_result': '大谷翔平（Ohtani Shohei）は、日本のプロ野球選手であり、メジャーリーグベースボール（MLB）で活躍する二刀流プレーヤーです。彼は1994年7月5日に岩手県で生まれ、花巻東高等学校から2012年に北海道日本ハムファイターズにドラフト1位指名で入団しました。\\n\\n### 早期キャリア\\n大谷は高校時代からその高い程の球速（160km/h）で注目を浴び、プロ入り後は投手・打者としての才能を発揮しました。2013年から2017年まで北海道日本ハムでプレーし、この間には2016年に日本一を経験し、また軽快な打撃と抜群の制球力で多くのタイトルを獲得しました。\\n\\n### メジャーリーグキャリア\\n2018年、大谷はロサンゼルス・エンゼルスに移籍し、大リーグでのデビューを果たしました。デビューシーズンにおいて、彼はアメリカンリーグの新人王に輝き、投打両面での活躍が高く評価されました。特に彼の「二刀流」は近年のプロ野球界でも注目されており、先発投手としても打者としても成果を上げています。\\n\\n### 成績と受賞歴\\n2021年にはアメリカンリーグMVPにも選ばれ、鈴木一朗に次いで日本出身選手としては二人目の栄誉を手にしました。2023年シーズンには44本のホームランを打ち、再びMVPを獲得。彼の巧みな打撃技術とピッチングは、彼を現代のベーブ・ルースと呼ばれるほどの選手としています。\\n\\n### 2023年の移籍\\n2023年12月、大谷はロサンゼルス・ドジャースに移籍し、10年の契約を結びました。この契約は世界のスポーツ史上でも最も高額なものであり、約7億ドルに達しました。移籍後の彼のプレーにも大きな期待が寄せられています。\\n\\n### 国際舞台での活躍\\n彼は日本代表としても活躍し、2023年のワールド・ベースボール・クラシックではチームを優勝に導き、自らもMVPに選出されました。\\n\\n### 個人生活\\n大谷はそのプレースタイルの魅力だけでなく、謙虚で冷静な人柄でも知られています。日本国内外でのブランドアンバサダーとしても活躍しており、様々な企業との契約を結んでいます。\\n\\n大谷翔平はこれからも野球界での主演としてさらなる高みに挑むことが期待されています。詳しい情報は、[Wikipedia](https://zh.wikipedia.org/zh-tw/大谷翔平)や[Full-Count](https://full-count.jp/category/mlb/shohei-ohtani/)で確認できます。', 'title': '大谷翔平：二刀流の日本の誇り', 'main_text': '大谷翔平（Ohtani Shohei）は、今や世界中の野球ファンから愛される日本のプロ野球選手であり、メジャーリーグベースボール（MLB）での二刀流プレーヤーとして知られています。彼は1994年7月5日に岩手県で誕生し、花巻東高等学校卒業後、2012年に北海道日本ハムファイターズからドラフト1位指名でプロ入りしました。  \\n\\n### 早期キャリア  \\n大谷は高校時代からその球速に驚異的なものがあり、160km/hを記録する投手として注目を集めました。プロ入り後は、北海道日本ハムファイターズで2013年から2017年までプレーし、特に2016年にはチームを日本一に導くなど、その早すぎる成績から多くのタイトルを獲得しました。  \\n\\n### メジャーリーグでの成功  \\n2018年、大谷はロサンゼルス・エンゼルスと契約し、MLBデビューを果たしました。彼はデビューシーズンにアメリカンリーグの新人王に選ばれ、投打両方での素晴らしい成績が評価されることとなりました。大谷の二刀流スタイルは、近年のプロ野球界でもますます注目を集め、多くのファンや選手から期待を寄せられています。  \\n\\n### 成績と受賞歴  \\n大谷の成績は目覚ましく、2021年にはアメリカンリーグMVPに輝いたことで、鈴木一朗に次ぐ日本出身選手としての名誉を獲得しました。2023年シーズンでは44本のホームランを打ち、再びMVPに選ばれるなど、その打撃力とピッチング能力で「現代のベーブ・ルース」とも評されています。  \\n\\n### 2023年の移籍情報  \\n2023年12月、大谷はロサンゼルス・ドジャースに移籍し、歴史的な10年契約を結びました。この契約金額は約7億ドルに達し、スポーツ史上でもトップクラスのものであり、彼にかけられる期待は高まっています。  \\n\\n### 国際大会での活躍  \\n大谷は日本代表としても大きな成功を収めており、2023年のワールド・ベースボール・クラシックでは、日本を優勝へと導き、自身もMVPを受賞しました。  \\n\\n### 人柄とプライベート  \\n大谷翔平はそのプレーのみならず、謙虚で冷静な人柄でも知られています。多くの企業との契約を結び、ブランドアンバサダーとしても活動しており、世界中での影響力を確立しています。  \\n\\n大谷翔平の活躍はこれからも続き、より高い目標へ挑戦する姿が期待されています。その詳細については、[Wikipedia](https://zh.wikipedia.org/zh-tw/大谷翔平)や[Full-Count](https://full-count.jp/category/mlb/shohei-ohtani/)をチェックしてください。'}\n"
     ]
    }
   ],
   "source": [
    "for event in app.stream(initial_state):\n",
    "    for k, v in event.items():\n",
    "        if k != \"__end__\":\n",
    "            print(v)"
   ]
  },
  {
   "cell_type": "code",
   "execution_count": null,
   "metadata": {},
   "outputs": [],
   "source": []
  }
 ],
 "metadata": {
  "kernelspec": {
   "display_name": ".venv",
   "language": "python",
   "name": "python3"
  },
  "language_info": {
   "codemirror_mode": {
    "name": "ipython",
    "version": 3
   },
   "file_extension": ".py",
   "mimetype": "text/x-python",
   "name": "python",
   "nbconvert_exporter": "python",
   "pygments_lexer": "ipython3",
   "version": "3.12.3"
  }
 },
 "nbformat": 4,
 "nbformat_minor": 2
}
