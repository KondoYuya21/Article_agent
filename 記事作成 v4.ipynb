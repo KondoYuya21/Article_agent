{
 "cells": [
  {
   "cell_type": "markdown",
   "metadata": {},
   "source": [
    "v4\n",
    "\n",
    "調査とまとめのエージェントを分ける\n"
   ]
  },
  {
   "cell_type": "markdown",
   "metadata": {},
   "source": [
    "ライブラリのインポート"
   ]
  },
  {
   "cell_type": "code",
   "execution_count": 76,
   "metadata": {},
   "outputs": [],
   "source": [
    "# ライブラリのインポート\n",
    "import os\n",
    "from dotenv import load_dotenv\n",
    "from langchain_openai import ChatOpenAI\n",
    "from langchain_community.tools.tavily_search import TavilySearchResults\n",
    "from langchain_core.messages import HumanMessage\n",
    "from langgraph.checkpoint.memory import MemorySaver\n",
    "from langchain_core.prompts import ChatPromptTemplate\n",
    "from langgraph.graph import END, START, StateGraph\n",
    "from langgraph.prebuilt import create_react_agent\n",
    "from typing import List, Dict\n",
    "from langchain.prompts.chat import (\n",
    "    ChatPromptTemplate,\n",
    "    SystemMessagePromptTemplate,\n",
    "    HumanMessagePromptTemplate\n",
    ")\n",
    "from langchain.schema import SystemMessage, HumanMessage\n",
    "from typing_extensions import TypedDict\n",
    "from pydantic import BaseModel, Field\n",
    "\n",
    "load_dotenv()\n",
    "\n",
    "\n",
    "#LangchainのAPIを渡す\n",
    "os.environ[\"LANGCHAIN_TRACING\"] = \"true\"\n",
    "os.environ[\"LANGCHAIN_API_KEY\"] = os.getenv(\"LANGCHAIN_API_KEY\")\n",
    "\n",
    "#GPTのAPIを渡す\n",
    "os.environ[\"OPENAI_API_KEY\"] = os.getenv(\"OPENAI_API_KEY\")\n",
    "\n",
    "#TavilyのAPIを渡す\n",
    "os.environ[\"TAVILY_API_KEY\"] = os.getenv(\"TAVILY_API_KEY\")\n"
   ]
  },
  {
   "cell_type": "markdown",
   "metadata": {},
   "source": [
    "出力の型を定義"
   ]
  },
  {
   "cell_type": "code",
   "execution_count": 77,
   "metadata": {},
   "outputs": [],
   "source": [
    "class URLInfo(BaseModel):\n",
    "    title: str = Field(description=\"サイトのタイトル\")\n",
    "    url: str = Field(description=\"サイトのURL\")\n",
    "\n",
    "class OutputSummrize(BaseModel):\n",
    "    summrize_result: str = Field(description=\"調査の内容\")\n",
    "    # URL_listをURLInfoモデルに変更\n",
    "    URL_list: List[URLInfo] = Field(description=\"記事作成に利用されたサイトのタイトルとURL\")\n",
    "\n",
    "\n",
    "class OutputArticle(BaseModel):\n",
    "    title: str = Field(description=\"記事のタイトル\")\n",
    "    main_text: str = Field(description=\"記事の中身\")"
   ]
  },
  {
   "cell_type": "markdown",
   "metadata": {},
   "source": [
    "LLMの定義"
   ]
  },
  {
   "cell_type": "code",
   "execution_count": 78,
   "metadata": {},
   "outputs": [],
   "source": [
    "#ツールを利用するエージェント\n",
    "#ChatOpenAIでチャットモデルを渡す（モデルは変更できる）\n",
    "model = ChatOpenAI(model=\"gpt-4o-mini\")\n",
    "\n",
    "# Tavilyの定義　max_results:何件文の検索結果を保持するか\n",
    "search = TavilySearchResults(\n",
    "    max_results=5,\n",
    "    search_depth=\"advanced\",\n",
    "    include_answer=True,\n",
    "    include_raw_content=True\n",
    ")\n",
    "tools = [search]\n",
    "\n",
    "search_agent = create_react_agent(model, tools)"
   ]
  },
  {
   "cell_type": "code",
   "execution_count": 79,
   "metadata": {},
   "outputs": [],
   "source": [
    "#記事をまとめるエージェント\n",
    "summrize_system_template = '''\n",
    "あなたは調査内容をまとめるアシスタントです。\n",
    "\n",
    "{search_result}で得た情報をまとめてください。\n",
    "また、調査で取得したサイトのタイトルとURL１つ１つを辞書形式({{\"title\": \"...\", \"url\": \"...\"}})にし、リスト形式で出力してください。\n",
    "'''\n",
    "\n",
    "search_prompt = ChatPromptTemplate.from_messages(\n",
    "    [\n",
    "        (\"system\", summrize_system_template)\n",
    "    ]\n",
    ")\n",
    "search_output = model.with_structured_output(\n",
    "    OutputSummrize\n",
    ")\n",
    "\n",
    "summrize_agent = search_prompt | search_output"
   ]
  },
  {
   "cell_type": "code",
   "execution_count": 80,
   "metadata": {},
   "outputs": [],
   "source": [
    "#記事作成を行うエージェント\n",
    "system_template = '''\n",
    "以下の検索結果search_result（{summrize_result}）を活用して、指定されたコンテンツcontent（{content}）に関する記事を日本語で作成してください。\n",
    "\n",
    "記事のタイトル、導入、本文、まとめの構成を意識してわかりやすい構成を心がけてください。\n",
    "検索結果から得られる情報を整理・要約し、読者にとって有益で読みやすい記事になるようにしてください。\n",
    "オリジナリティを保ちつつ、正確かつ最新の情報を盛り込むようにしてください。\n",
    "Steps\n",
    "検索結果の内容を把握\n",
    "\n",
    "search_resultから得られる情報をまず整理し、主要なトピックやキーワードを洗い出してください。\n",
    "記事のアウトライン作成\n",
    "\n",
    "タイトル\n",
    "導入（リード文）\n",
    "見出し（必要に応じて複数）\n",
    "まとめ（結論やまとめ）\n",
    "本文執筆\n",
    "\n",
    "見出しや小見出しごとに論点をまとめ、論理的な文章構成を心がけてください。\n",
    "検索結果の情報を根拠に、読者にとって有益なポイントを具体的に示してください。\n",
    "結論・まとめ\n",
    "\n",
    "記事全体を振り返り、要点を簡潔に整理して読者の理解を深める結論を提示してください。\n",
    "次の行動や関連トピックへの誘導など、読者が得られるメリットを示してください。\n",
    "最終チェック\n",
    "\n",
    "誤字脱字や情報の正確性、読みやすさなどを確認し、必要に応じて修正してください。\n",
    "Output Format\n",
    "テキスト形式で、タイトルからまとめまでの構成を順序立てて書いてください。\n",
    "見やすさを考慮し、箇条書きや段落を適切に使ってください。\n",
    "Examples\n",
    "例1\n",
    "タイトル: 「[検索結果の主要トピック]を徹底解説」\n",
    "導入: この記事では…（簡単な背景情報と読者が得られるメリット）\n",
    "本文\n",
    "\n",
    "見出し1: 「[見出しのテーマ]」\n",
    "[検索結果からの情報を例示しながら解説]\n",
    "見出し2: 「[別の角度や詳細トピック]」\n",
    "[具体的な事例や追加情報など]\n",
    "まとめ: [全体の要点、読者への次のステップ]\n",
    "(実際の記事では、上記より詳しい説明や具体例を記載してください)\n",
    "\n",
    "Notes\n",
    "検索結果だけでなく、既存の一般的な知識や文脈も適切に補完して記事を仕上げてください。\n",
    "search_resultやcontentが十分でない場合は、想定しうる前提条件などを適宜推測して文章を補ってください。\n",
    "\n",
    "'''\n",
    "\n",
    "extract_prompt = ChatPromptTemplate.from_messages(\n",
    "    [\n",
    "        (\"user\", system_template),\n",
    "    ]\n",
    ")\n",
    "extract_trends = model.with_structured_output(\n",
    "    OutputArticle\n",
    ")\n",
    "trend_extractor = extract_prompt | extract_trends\n"
   ]
  },
  {
   "cell_type": "markdown",
   "metadata": {},
   "source": [
    "グラフの作成"
   ]
  },
  {
   "cell_type": "code",
   "execution_count": 81,
   "metadata": {},
   "outputs": [],
   "source": [
    "class State(TypedDict):\n",
    "    content: str #ユーザーが入力した記事の内容\n",
    "    search_result: str #LLMが調査を行った結果を格納\n",
    "    summrize_result: str #LLMの調査をまとめた結果を格納\n",
    "    title: str #生成された記事のタイトル\n",
    "    main_text:str #生成された記事の内容\n",
    "    URL_list:List[Dict[str, str]] #URLのリスト"
   ]
  },
  {
   "cell_type": "code",
   "execution_count": 82,
   "metadata": {},
   "outputs": [],
   "source": [
    "def search(state: State):\n",
    "    response = search_agent.invoke({\"messages\": [{\"role\": \"user\", \"content\": f\"{state['content']}について調査をしてください\"}]})\n",
    "    state[\"search_result\"] = response[\"messages\"][-1].content\n",
    "    return state\n",
    "\n",
    "def search_summrize(state: State):\n",
    "    response = summrize_agent.invoke(state)\n",
    "    state[\"summrize_result\"] = response.summrize_result\n",
    "    state[\"URL_list\"] = response.URL_list\n",
    "    return state\n",
    "\n",
    "def generate_article(state: State):\n",
    "    response = trend_extractor.invoke(state)\n",
    "    state[\"title\"] = response.title\n",
    "    state[\"main_text\"] = response.main_text\n",
    "    return state"
   ]
  },
  {
   "cell_type": "code",
   "execution_count": 83,
   "metadata": {},
   "outputs": [],
   "source": [
    "workflow = StateGraph(State)\n",
    "\n",
    "workflow.add_node(\"search\", search)\n",
    "workflow.add_node(\"search_summrize\", search_summrize)\n",
    "workflow.add_node(\"generate_article\", generate_article)\n",
    "\n",
    "workflow.add_edge(START, \"search\")\n",
    "workflow.add_edge(\"search\", \"search_summrize\")\n",
    "workflow.add_edge(\"search_summrize\", \"generate_article\")\n",
    "workflow.add_edge(\"generate_article\", END)\n",
    "\n",
    "app = workflow.compile()\n"
   ]
  },
  {
   "cell_type": "code",
   "execution_count": 84,
   "metadata": {},
   "outputs": [
    {
     "data": {
      "image/png": "[encoded data removed]",
      "text/plain": [
       "<IPython.core.display.Image object>"
      ]
     },
     "metadata": {},
     "output_type": "display_data"
    }
   ],
   "source": [
    "from IPython.display import Image, display\n",
    "\n",
    "display(Image(app.get_graph(xray=True).draw_mermaid_png()))\n",
    "from IPython.display import Image, display\n"
   ]
  },
  {
   "cell_type": "code",
   "execution_count": 87,
   "metadata": {},
   "outputs": [],
   "source": [
    "initial_state = State()\n",
    "initial_state[\"content\"] = \"大谷翔平\"\n"
   ]
  },
  {
   "cell_type": "code",
   "execution_count": 88,
   "metadata": {},
   "outputs": [
    {
     "name": "stdout",
     "output_type": "stream",
     "text": [
      "{'content': '大谷翔平', 'search_result': '大谷翔平選手に関する最新の情報を以下にまとめます。\\n\\n### 大谷翔平選手のプロフィール\\n- **チーム**：ロサンゼルス・ドジャース\\n- **ポジション**：投手・指名打者\\n- **出身地**：日本（岩手県）\\n- **生年月日**：1994年7月5日\\n- **経歴**：\\n  - 日本ハムファイターズを経て、2018年よりアメリカのメジャーリーグでプレー。\\n  - 2014年には2桁勝利と2桁本塁打を達成。\\n  - 2021年にはオールスター史上初の投手と野手両方で選出され、MVPを受賞。\\n\\n### 近年の成績と功績\\n- **2024年シーズン**：\\n  - 大谷選手は、初めてのワールドシリーズ制覇を成し遂げた。\\n  - 大谷選手は右肘の手術後、指名打者に専念することになったが、59盗塁を記録。\\n  - ホームラン50本、盗塁50での「50-50」を達成し、MVPを受賞（これにより、指名打者専念の選手としては初の記録）。\\n\\n### インタビューおよび最近の動向\\n- 大谷選手は、高度なリハビリを行いながら、2024年のシーズンを迎えた。\\n- 試練を乗り越え、数々の偉業を達成した背景には大きな努力があった。\\n- 翔平選手は、自身のリハビリやシーズンの進行について、「長く感じたが、試合をしているとあっという間に次のシーズンが来る感覚」と語っている。\\n\\n### マスコミの注目と未来\\n- 大谷選手への注目は日本だけでなく、全世界に広がっており、多くの報道が彼のプレーやインタビューを取り上げている。\\n- 移籍先のドジャースでも、その存在感を放ち、ファンやメディアの期待が高まっている。\\n\\nこれらの情報は、日本のメディアを中心に報じられており、彼の今後の活躍にも注目が集まっています。'}\n",
      "{'content': '大谷翔平', 'search_result': '大谷翔平選手に関する最新の情報を以下にまとめます。\\n\\n### 大谷翔平選手のプロフィール\\n- **チーム**：ロサンゼルス・ドジャース\\n- **ポジション**：投手・指名打者\\n- **出身地**：日本（岩手県）\\n- **生年月日**：1994年7月5日\\n- **経歴**：\\n  - 日本ハムファイターズを経て、2018年よりアメリカのメジャーリーグでプレー。\\n  - 2014年には2桁勝利と2桁本塁打を達成。\\n  - 2021年にはオールスター史上初の投手と野手両方で選出され、MVPを受賞。\\n\\n### 近年の成績と功績\\n- **2024年シーズン**：\\n  - 大谷選手は、初めてのワールドシリーズ制覇を成し遂げた。\\n  - 大谷選手は右肘の手術後、指名打者に専念することになったが、59盗塁を記録。\\n  - ホームラン50本、盗塁50での「50-50」を達成し、MVPを受賞（これにより、指名打者専念の選手としては初の記録）。\\n\\n### インタビューおよび最近の動向\\n- 大谷選手は、高度なリハビリを行いながら、2024年のシーズンを迎えた。\\n- 試練を乗り越え、数々の偉業を達成した背景には大きな努力があった。\\n- 翔平選手は、自身のリハビリやシーズンの進行について、「長く感じたが、試合をしているとあっという間に次のシーズンが来る感覚」と語っている。\\n\\n### マスコミの注目と未来\\n- 大谷選手への注目は日本だけでなく、全世界に広がっており、多くの報道が彼のプレーやインタビューを取り上げている。\\n- 移籍先のドジャースでも、その存在感を放ち、ファンやメディアの期待が高まっている。\\n\\nこれらの情報は、日本のメディアを中心に報じられており、彼の今後の活躍にも注目が集まっています。', 'summrize_result': '大谷翔平選手は、ロサンゼルス・ドジャースに所属する投手兼指名打者で、1994年7月5日に岩手県で生まれました。日本ハムファイターズからメジャーリーグへ移行し、2014年に二桁勝利と二桁本塁打を達成しました。2021年にはオールスター史上初の投手と野手の両方で選出され、MVPを受賞。2024年シーズンには、ワールドシリーズ優勝を達成し、指名打者に専念しながら50本のホームランと59盗塁を記録。「50-50」を達成し、再びMVPを受賞しました。大谷選手は動画のインタビューで、リハビリ期間を乗り越えてのプレーを語り、ますます注目を集めています。彼はドジャースでの活躍にも高い期待が寄せられています。', 'URL_list': [URLInfo(title='大谷翔平選手に関する最新の情報', url='https://example.com/ohtani_latest_info'), URLInfo(title='2024年シーズンの大谷翔平選手の成績', url='https://example.com/ohtani_2024_stats'), URLInfo(title='大谷翔平選手のリハビリと未来', url='https://example.com/ohtani_recovery_and_future'), URLInfo(title='大谷翔平選手のワールドシリーズ優勝', url='https://example.com/ohtani_world_series'), URLInfo(title='大谷翔平選手のMVP受賞の背景', url='https://example.com/ohtani_mvp_background')]}\n",
      "{'content': '大谷翔平', 'search_result': '大谷翔平選手に関する最新の情報を以下にまとめます。\\n\\n### 大谷翔平選手のプロフィール\\n- **チーム**：ロサンゼルス・ドジャース\\n- **ポジション**：投手・指名打者\\n- **出身地**：日本（岩手県）\\n- **生年月日**：1994年7月5日\\n- **経歴**：\\n  - 日本ハムファイターズを経て、2018年よりアメリカのメジャーリーグでプレー。\\n  - 2014年には2桁勝利と2桁本塁打を達成。\\n  - 2021年にはオールスター史上初の投手と野手両方で選出され、MVPを受賞。\\n\\n### 近年の成績と功績\\n- **2024年シーズン**：\\n  - 大谷選手は、初めてのワールドシリーズ制覇を成し遂げた。\\n  - 大谷選手は右肘の手術後、指名打者に専念することになったが、59盗塁を記録。\\n  - ホームラン50本、盗塁50での「50-50」を達成し、MVPを受賞（これにより、指名打者専念の選手としては初の記録）。\\n\\n### インタビューおよび最近の動向\\n- 大谷選手は、高度なリハビリを行いながら、2024年のシーズンを迎えた。\\n- 試練を乗り越え、数々の偉業を達成した背景には大きな努力があった。\\n- 翔平選手は、自身のリハビリやシーズンの進行について、「長く感じたが、試合をしているとあっという間に次のシーズンが来る感覚」と語っている。\\n\\n### マスコミの注目と未来\\n- 大谷選手への注目は日本だけでなく、全世界に広がっており、多くの報道が彼のプレーやインタビューを取り上げている。\\n- 移籍先のドジャースでも、その存在感を放ち、ファンやメディアの期待が高まっている。\\n\\nこれらの情報は、日本のメディアを中心に報じられており、彼の今後の活躍にも注目が集まっています。', 'summrize_result': '大谷翔平選手は、ロサンゼルス・ドジャースに所属する投手兼指名打者で、1994年7月5日に岩手県で生まれました。日本ハムファイターズからメジャーリーグへ移行し、2014年に二桁勝利と二桁本塁打を達成しました。2021年にはオールスター史上初の投手と野手の両方で選出され、MVPを受賞。2024年シーズンには、ワールドシリーズ優勝を達成し、指名打者に専念しながら50本のホームランと59盗塁を記録。「50-50」を達成し、再びMVPを受賞しました。大谷選手は動画のインタビューで、リハビリ期間を乗り越えてのプレーを語り、ますます注目を集めています。彼はドジャースでの活躍にも高い期待が寄せられています。', 'URL_list': [URLInfo(title='大谷翔平選手に関する最新の情報', url='https://example.com/ohtani_latest_info'), URLInfo(title='2024年シーズンの大谷翔平選手の成績', url='https://example.com/ohtani_2024_stats'), URLInfo(title='大谷翔平選手のリハビリと未来', url='https://example.com/ohtani_recovery_and_future'), URLInfo(title='大谷翔平選手のワールドシリーズ優勝', url='https://example.com/ohtani_world_series'), URLInfo(title='大谷翔平選手のMVP受賞の背景', url='https://example.com/ohtani_mvp_background')], 'title': '大谷翔平選手の活躍とその影響', 'main_text': '導入: 近年、メジャーリーグベースボールにおいて日本人選手の存在感が増している中で、特に注目を浴びているのが大谷翔平選手です。彼はロサンゼルス・ドジャースに所属し、二刀流の才能を活かしながら数々の記録を樹立しています。本記事では、大谷選手のこれまでの道のりと2024シーズンの成績について振り返ります。\\n\\n見出し1: 大谷翔平選手の経歴とメジャーリーグでの足跡  \\n大谷選手は1994年に岩手県で生まれ、日本ハムファイターズからメジャーリーグへ移行しました。彼のキャリアの中で、2014年には投手として二桁勝利、野手としての二桁本塁打を達成し、その才能を証明しました。2021年にはオールスター戦で史上初となる投手と野手の両方で選出され、MVPを受賞したことも特筆に値します。\\n\\n見出し2: 2024シーズンの大躍進  \\n2024シーズンでは、ワールドシリーズ優勝を達成し、大谷選手は指名打者に専念しながら見事に50本のホームランと59盗塁を記録しました。これにより、彼は「50-50」を達成し、再びMVPを受賞する快挙を成し遂げています。リハビリ期間を乗り越えた反発の強さや、プレーへの真摯な姿勢は、多くのファンやチームメイトに感動を与えています。\\n\\n見出し3: 今後の期待と大谷選手の影響  \\n大谷選手はそのプレースタイルだけでなく、彼のキャラクターやチームへの貢献も評価されています。ドジャースでの今後の活躍にも高い期待が寄せられ、ますます彼への注目が集まっています。動画インタビューでも、彼がリハビリを経てプレーする姿勢を語り、多くの人々にとってのインスピレーションとなっています。\\n\\nまとめ: 大谷翔平選手は、その圧倒的なパフォーマンスと人間性により、今後もメジャーリーグだけでなく、スポーツ界全体に大きな影響を与える存在であり続けるでしょう。彼の活躍からは、挑戦し続けることの重要性や夢を追い求める姿勢を学ぶことができます。これからも大谷選手の動向に注目し、彼が立ち上げる新たな記録を期待しましょう。'}\n"
     ]
    }
   ],
   "source": [
    "for event in app.stream(initial_state):\n",
    "    for k, v in event.items():\n",
    "        if k != \"__end__\":\n",
    "            print(v)"
   ]
  },
  {
   "cell_type": "code",
   "execution_count": null,
   "metadata": {},
   "outputs": [],
   "source": [
    "\n"
   ]
  }
 ],
 "metadata": {
  "kernelspec": {
   "display_name": ".venv",
   "language": "python",
   "name": "python3"
  },
  "language_info": {
   "codemirror_mode": {
    "name": "ipython",
    "version": 3
   },
   "file_extension": ".py",
   "mimetype": "text/x-python",
   "name": "python",
   "nbconvert_exporter": "python",
   "pygments_lexer": "ipython3",
   "version": "3.12.3"
  }
 },
 "nbformat": 4,
 "nbformat_minor": 2
}
