{
 "cells": [
  {
   "cell_type": "markdown",
   "metadata": {},
   "source": [
    "v6\n",
    "\n",
    "作成した記事を批評するエージェントの導入\n",
    "\n",
    "ルーターノードも加える"
   ]
  },
  {
   "cell_type": "code",
   "execution_count": 1,
   "metadata": {},
   "outputs": [],
   "source": [
    "ver = \"ver6\""
   ]
  },
  {
   "cell_type": "markdown",
   "metadata": {},
   "source": [
    "ライブラリのインポート"
   ]
  },
  {
   "cell_type": "code",
   "execution_count": 3,
   "metadata": {},
   "outputs": [],
   "source": [
    "# ライブラリのインポート\n",
    "import os\n",
    "from dotenv import load_dotenv\n",
    "from langchain_openai import ChatOpenAI\n",
    "from langchain_community.tools.tavily_search import TavilySearchResults\n",
    "from langchain_core.messages import HumanMessage\n",
    "from langgraph.checkpoint.memory import MemorySaver\n",
    "from langchain_core.prompts import ChatPromptTemplate\n",
    "from langgraph.graph import END, START, StateGraph\n",
    "from langgraph.prebuilt import create_react_agent\n",
    "from typing import List, Dict\n",
    "from langchain.schema import SystemMessage, HumanMessage\n",
    "from typing_extensions import TypedDict\n",
    "from pydantic import BaseModel, Field\n",
    "\n",
    "load_dotenv()\n",
    "\n",
    "\n",
    "#LangchainのAPIを渡す\n",
    "os.environ[\"LANGCHAIN_TRACING\"] = \"true\"\n",
    "os.environ[\"LANGCHAIN_API_KEY\"] = os.getenv(\"LANGCHAIN_API_KEY\")\n",
    "\n",
    "#GPTのAPIを渡す\n",
    "os.environ[\"OPENAI_API_KEY\"] = os.getenv(\"OPENAI_API_KEY\")\n",
    "\n",
    "#TavilyのAPIを渡す\n",
    "os.environ[\"TAVILY_API_KEY\"] = os.getenv(\"TAVILY_API_KEY\")\n"
   ]
  },
  {
   "cell_type": "markdown",
   "metadata": {},
   "source": [
    "出力の型を定義"
   ]
  },
  {
   "cell_type": "code",
   "execution_count": 4,
   "metadata": {},
   "outputs": [],
   "source": [
    "class URLInfo(BaseModel):\n",
    "    title: str = Field(description=\"サイトのタイトル\")\n",
    "    url: str = Field(description=\"サイトのURL\")\n",
    "\n",
    "class OutputSummrize(BaseModel):\n",
    "    # URL_listをURLInfoモデルに変更\n",
    "    URL_list: List[URLInfo] = Field(description=\"記事作成に利用されたサイトのタイトルとURL\")\n",
    "\n",
    "\n",
    "class OutputArticle(BaseModel):\n",
    "    title: str = Field(description=\"記事のタイトル\")\n",
    "    main_text: str = Field(description=\"記事の中身\")\n",
    "\n",
    "class OutputReview(BaseModel):\n",
    "    review_result: str = Field(description=\"批評の結果\")\n",
    "    edit_needed: bool = Field(description=\"修正の必要があるか\")\n",
    "    edit_suggest: str = Field(description=\"修正案\")\n",
    "\n",
    "class OutputEdit(BaseModel):\n",
    "    edit_result: str = Field(description=\"修正の結果\")"
   ]
  },
  {
   "cell_type": "markdown",
   "metadata": {},
   "source": [
    "プロンプトの定義"
   ]
  },
  {
   "cell_type": "code",
   "execution_count": 5,
   "metadata": {},
   "outputs": [],
   "source": [
    "search_system_template = '''\n",
    "あなたはユーザーから与えられたトピックについて調査を行うアシスタントです。\n",
    "調査で得られた情報と引用したサイトのタイトルとURLを出力してください。\n",
    "\n",
    "##注意\n",
    "    なるべく調査で得た情報はそのまま出力してください\n",
    "    まとめや要約はしないでください\n",
    "'''\n",
    "\n",
    "summrize_system_template = '''\n",
    "あなたは調査で得られたサイトの情報を集約するアシスタントです。\n",
    "調査で取得したサイトのタイトルとURL１つ１つを辞書形式({{\"title\": \"...\", \"url\": \"...\"}})にし、リスト形式で出力してください。\n",
    "'''\n",
    "\n",
    "generate_system_template = '''\n",
    "以下の内容を踏まえて、マークダウン形式で記事を作成してください。\n",
    "\n",
    "指定されたコンテンツ {content} に関する記事を日本語で作成してください。\n",
    "検索結果 {search_result} から得られる情報を整理し、読者にとって有益でわかりやすい記事を心がけてください。\n",
    "記事のタイトル、導入、本文、まとめの構成を意識し、最新かつ正確な情報を盛り込んでください。\n",
    "本文の末尾には、検索結果のサイトタイトルとURLを{URL_list}を参照の上、リスト形式で記載してください。\n",
    "\n",
    "Steps\n",
    "検索結果の内容を把握\n",
    "search_resultを確認し、主要なトピックやキーワードを整理してください。\n",
    "記事のアウトライン作成\n",
    "タイトル\n",
    "導入（リード文）\n",
    "見出し（必要に応じて複数）\n",
    "まとめ（結論やまとめ）\n",
    "本文執筆\n",
    "見出しや小見出しごとに論点をまとめ、論理的に構成してください。\n",
    "検索結果から得られた情報や一般知識を補完し、正確かつオリジナリティを意識した内容にしてください。\n",
    "結論・まとめ\n",
    "記事全体を振り返り、要点を簡潔にまとめてください。\n",
    "次の行動や関連トピックへの誘導など、読者が得られるメリットを提示してください。\n",
    "最終チェック\n",
    "誤字脱字、情報の正確性、読みやすさを確認し、必要に応じて修正してください。\n",
    "引用元の表記\n",
    "記事の末尾に、検索結果から参照したサイトのタイトルとURLをリスト形式で記載してください。\n",
    "Output Format\n",
    "マークダウン形式で出力してください。\n",
    "改行や段落を保持し、見出しや箇条書きを適切に使ってください。\n",
    "記事末尾に「引用元」として、サイトタイトルとURLを記載してください。\n",
    "Examples\n",
    "例:\n",
    "\n",
    "タイトル: 「[検索結果の主要トピック]を徹底解説」\n",
    "導入: この記事では…（簡単な背景情報と読者が得られるメリット）\n",
    "\n",
    "本文\n",
    "\n",
    "見出し1: 「[見出しのテーマ]」\n",
    "[検索結果からの情報を例示しながら解説]\n",
    "見出し2: 「[別の角度や詳細トピック]」\n",
    "[具体的な事例や追加情報など]\n",
    "まとめ: [全体の要点、読者への次のステップ]\n",
    "\n",
    "引用元\n",
    "\n",
    "サイト名\n",
    "サイト名\n",
    "(実際の記事では、上記より詳細かつ具体的に説明してください)\n",
    "\n",
    "Notes\n",
    "search_result や contentが十分でない場合は、想定しうる前提条件を補足して文章を構成してください。\n",
    "あくまで検索結果を根拠にしつつも、独自の言い回しや整理を行い、オリジナリティを大切にしてください。\n",
    "'''\n",
    "\n",
    "review_system_template = '''\n",
    "評価対象の記事（{main_text}）を以下の3観点でそれぞれ0〜10点で採点し、理由を説明したうえで修正の必要性をブール値（true / false）で示し、必要な場合は修正案を提示してください。\n",
    "\n",
    "構成\n",
    "誤字脱字・文法\n",
    "表現・内容のわかりやすさ\n",
    "出力フォーマット\n",
    "構成: [点数]/10\n",
    "誤字脱字・文法: [点数]/10\n",
    "表現・内容のわかりやすさ: [点数]/10\n",
    "評価理由:\n",
    "各観点において、なぜその点数なのかを具体的に説明\n",
    "修正の有無: [true or false]\n",
    "true: 修正が必要な場合\n",
    "false: 修正が不要な場合\n",
    "修正案 (修正が必要な場合のみ)\n",
    "例\n",
    "入力記事: 「今日は天気がいいです。こうえんに行くと、こどもたちがとても楽しそうにあそんでいました。」\n",
    "\n",
    "想定出力:\n",
    "\n",
    "構成: 7/10\n",
    "誤字脱字・文法: 8/10\n",
    "表現・内容のわかりやすさ: 7/10\n",
    "評価理由:\n",
    "構成: 簡潔で理解はしやすいが、段落を分けて詳細を説明するとさらに良くなる\n",
    "誤字脱字・文法: 「こうえん」は「公園」、「あそんでいました」は「遊んでいました」が望ましい\n",
    "表現・内容のわかりやすさ: 全体的な内容は伝わるが、周囲の状況を少し描写すると魅力が増す\n",
    "修正の有無: true\n",
    "修正案:\n",
    "「今日は天気がいいです。公園に行くと、子どもたちがとても楽しそうに遊んでいました。\n",
    "周りの木々は新緑に包まれ、ピクニックをする家族もいて笑顔があふれていました。」\n",
    "必要に応じて例を参照のうえ、指示に沿って出力してください。\n",
    "'''\n",
    "\n",
    "edit_system_template = '''\n",
    "元の記事（{main_text}）を基に、修正案（{edit_suggest}）の指示に従って記事を修正し、最終版を出力してください。\n",
    "\n",
    "修正案で指示された内容をすべて反映すること\n",
    "元の記事の文体や構成は、修正案が特に指示していない限り保持すること\n",
    "誤字脱字や表現の不整合があればあわせて修正すること\n",
    "手順\n",
    "修正案を確認する\n",
    "変更箇所や追記・削除の指示などを正確に把握してください。\n",
    "元の記事を確認する\n",
    "修正案で指定されている箇所を重点的に確認し、対応する内容を特定してください。\n",
    "指示に基づき修正を行う\n",
    "追記や文章の書き換えなど、必要な修正を行ってください。\n",
    "全体の流れや文脈が崩れないように注意しながら改稿してください。\n",
    "整合性をチェックする\n",
    "前後の文脈や用語の統一を含め、記事の整合性を確認してください。\n",
    "再度誤字脱字や表現のブレがないか検証してください。\n",
    "最終的な記事として出力する\n",
    "必要な変更がすべて適用されているかを確認し、最終的に完成した記事を提示してください。\n",
    "出力形式\n",
    "修正済みの記事本文のみを提示してください。\n",
    "余計な解説やメタ情報は含めないでください。\n",
    "例\n",
    "例：入力（修正案 & 元の記事）\n",
    "\n",
    "修正案:\n",
    "第一段落の最後の文を削除する。\n",
    "第二段落に記載の数値データを最新のものに置き換える。\n",
    "元の記事（一部抜粋）:\n",
    "[元の文章がここに入ります]\n",
    "例：出力（修正後の記事）\n",
    "[修正を反映させた文章のみを提示。指定された文章の削除や数値修正を適切に行い、余計なコメントは付けずに出力。]\n",
    "\n",
    "(実際の元の記事や修正案が長い場合は、それに応じて適切に修正を行ってください)\n",
    "\n",
    "備考\n",
    "修正指示に曖昧な点がある場合は、文脈から最も適切と思われる内容で補ってください。\n",
    "記事全体のトーンや文体が著しく変わらないよう配慮してください。\n",
    "出力時は完成した記事のみを提示し、他の要素は含めないでください。\n",
    "'''\n"
   ]
  },
  {
   "cell_type": "markdown",
   "metadata": {},
   "source": [
    "エージェントの定義"
   ]
  },
  {
   "cell_type": "code",
   "execution_count": 6,
   "metadata": {},
   "outputs": [],
   "source": [
    "#ツールを利用するエージェント\n",
    "#ChatOpenAIでチャットモデルを渡す（モデルは変更できる）\n",
    "model = ChatOpenAI(model=\"gpt-4o-mini\")\n",
    "\n",
    "# Tavilyの定義　max_results:何件文の検索結果を保持するか\n",
    "search = TavilySearchResults(\n",
    "    max_results=5,\n",
    "    search_depth=\"advanced\",\n",
    "    include_answer=True,\n",
    "    include_raw_content=True\n",
    ")\n",
    "tools = [search]\n",
    "\n",
    "search_agent = create_react_agent(model, tools)"
   ]
  },
  {
   "cell_type": "code",
   "execution_count": 7,
   "metadata": {},
   "outputs": [],
   "source": [
    "#URLを保持するエージェント\n",
    "summrize_prompt = ChatPromptTemplate.from_messages(\n",
    "    [\n",
    "        (\"system\", summrize_system_template)\n",
    "    ]\n",
    ")\n",
    "\n",
    "summrize_output = model.with_structured_output(\n",
    "    OutputSummrize\n",
    ")\n",
    "\n",
    "summrize_agent = summrize_prompt | summrize_output"
   ]
  },
  {
   "cell_type": "code",
   "execution_count": 8,
   "metadata": {},
   "outputs": [],
   "source": [
    "#記事作成を行うエージェント\n",
    "generate_prompt = ChatPromptTemplate.from_messages(\n",
    "    [\n",
    "        (\"user\", generate_system_template),\n",
    "    ]\n",
    ")\n",
    "\n",
    "generate_output = model.with_structured_output(\n",
    "    OutputArticle\n",
    ")\n",
    "generate_agent = generate_prompt | generate_output\n"
   ]
  },
  {
   "cell_type": "code",
   "execution_count": 9,
   "metadata": {},
   "outputs": [],
   "source": [
    "#批評を行うエージェント\n",
    "review_prompt = ChatPromptTemplate.from_messages(\n",
    "    [\n",
    "        (\"user\", review_system_template),\n",
    "    ]\n",
    ")\n",
    "\n",
    "review_output = model.with_structured_output(\n",
    "    OutputReview\n",
    ")\n",
    "review_agent = review_prompt | review_output"
   ]
  },
  {
   "cell_type": "code",
   "execution_count": 10,
   "metadata": {},
   "outputs": [],
   "source": [
    "#修正を行うエージェント\n",
    "edit_prompt = ChatPromptTemplate.from_messages(\n",
    "    [\n",
    "        (\"user\", edit_system_template),\n",
    "    ]\n",
    ")\n",
    "\n",
    "edit_output = model.with_structured_output(\n",
    "    OutputEdit\n",
    ")\n",
    "edit_agent = edit_prompt | edit_output"
   ]
  },
  {
   "cell_type": "markdown",
   "metadata": {},
   "source": [
    "stateの定義"
   ]
  },
  {
   "cell_type": "code",
   "execution_count": 11,
   "metadata": {},
   "outputs": [],
   "source": [
    "class State(TypedDict):\n",
    "    #入力\n",
    "    content: str #ユーザーが入力した記事の内容\n",
    "    \n",
    "    #調査関連\n",
    "    search_result: str #LLMが調査を行った結果を格納\n",
    "    URL_list:List[Dict[str, str]] #URLのリスト\n",
    "    \n",
    "    #記事作成関連\n",
    "    title: str #生成された記事のタイトル\n",
    "    main_text:str #生成された記事の内容\n",
    "    \n",
    "    #批評関連\n",
    "    review_result: str #批評の結果　本文\n",
    "    edit_needed: bool #修正の有無\n",
    "    edit_suggest: str #修正案\n",
    "\n",
    "    #修正関連\n",
    "    edit_result: str #修正後の本文"
   ]
  },
  {
   "cell_type": "markdown",
   "metadata": {},
   "source": [
    "各ノードの関数"
   ]
  },
  {
   "cell_type": "code",
   "execution_count": 12,
   "metadata": {},
   "outputs": [],
   "source": [
    "def search(state: State):\n",
    "    response = search_agent.invoke(\n",
    "        {\"messages\": [\n",
    "            {\"role\": \"system\", \"content\": search_system_template},\n",
    "            {\"role\": \"user\", \"content\": state[\"content\"]}\n",
    "            ]\n",
    "        }\n",
    "    )\n",
    "    state[\"search_result\"] = response[\"messages\"][-1].content\n",
    "    return state\n",
    "\n",
    "def search_summrize(state: State):\n",
    "    response = summrize_agent.invoke(state)\n",
    "    state[\"URL_list\"] = response.URL_list\n",
    "    return state\n",
    "\n",
    "def generate_article(state: State):\n",
    "    response = generate_agent.invoke(state)\n",
    "    state[\"title\"] = response.title\n",
    "    state[\"main_text\"] = response.main_text\n",
    "    return state\n",
    "\n",
    "def review_article(state: State):\n",
    "    response = review_agent.invoke(state)\n",
    "    state[\"review_result\"] = response.review_result\n",
    "    state[\"edit_needed\"] = response.edit_needed\n",
    "    state[\"edit_suggest\"] = response.edit_suggest\n",
    "    return state\n",
    "\n",
    "def edit_article(state: State):\n",
    "    response = edit_agent.invoke(state)\n",
    "    state[\"edit_result\"] = response.edit_result\n",
    "    return state\n",
    "\n",
    "def router(state):\n",
    "    # This is the router\n",
    "    messages = state[\"edit_needed\"]\n",
    "    if messages :\n",
    "        return \"edit_article\"\n",
    "    else:\n",
    "        return \"end\"\n"
   ]
  },
  {
   "cell_type": "markdown",
   "metadata": {},
   "source": [
    "グラフの作成"
   ]
  },
  {
   "cell_type": "code",
   "execution_count": 13,
   "metadata": {},
   "outputs": [],
   "source": [
    "#グラフの定義\n",
    "workflow = StateGraph(State)\n",
    "\n",
    "#ノードの定義\n",
    "workflow.add_node(\"search\", search)\n",
    "workflow.add_node(\"search_summrize\", search_summrize)\n",
    "workflow.add_node(\"generate_article\", generate_article)\n",
    "workflow.add_node(\"review_article\", review_article)\n",
    "workflow.add_node(\"edit_article\", edit_article)\n",
    "\n",
    "#エッジの定義\n",
    "workflow.add_edge(START, \"search\")\n",
    "workflow.add_edge(\"search\", \"search_summrize\")\n",
    "workflow.add_edge(\"search_summrize\", \"generate_article\")\n",
    "workflow.add_edge(\"generate_article\", \"review_article\")\n",
    "workflow.add_edge(\"edit_article\", END)\n",
    "\n",
    "workflow.add_conditional_edges(\n",
    "    \"review_article\", # <- 起点のエージェント\n",
    "    router, # <- ルーターの戻り値を条件とするという定義\n",
    "    {\"edit_article\": \"edit_article\", \"end\": END}, # <- 2パターンの定義\n",
    ")\n",
    "\n",
    "\n",
    "#コンパイル\n",
    "app = workflow.compile()\n"
   ]
  },
  {
   "cell_type": "code",
   "execution_count": 14,
   "metadata": {},
   "outputs": [
    {
     "data": {
      "image/png": "[encoded data removed]",
      "text/plain": [
       "<IPython.core.display.Image object>"
      ]
     },
     "metadata": {},
     "output_type": "display_data"
    }
   ],
   "source": [
    "#グラフの可視化\n",
    "from IPython.display import Image, display\n",
    "\n",
    "display(Image(app.get_graph(xray=True).draw_mermaid_png()))\n",
    "from IPython.display import Image, display\n"
   ]
  },
  {
   "cell_type": "markdown",
   "metadata": {},
   "source": [
    "トピックの定義"
   ]
  },
  {
   "cell_type": "code",
   "execution_count": 15,
   "metadata": {},
   "outputs": [],
   "source": [
    "initial_state = State()\n",
    "initial_state[\"content\"] = \"中居正広\"\n"
   ]
  },
  {
   "cell_type": "markdown",
   "metadata": {},
   "source": [
    "グラフの実行"
   ]
  },
  {
   "cell_type": "code",
   "execution_count": 16,
   "metadata": {},
   "outputs": [
    {
     "data": {
      "text/plain": [
       "{'content': '中居正広',\n",
       " 'search_result': '1. 中居正広 (中居 正広, Nakai Masahiro, born August 18, 1972) is a Japanese television host, actor, news presenter, and radio personality. He has hosted many TV specials, including 27 Hour Television and Kouhaku Uta Gassen. \\n   - 出典: [Wikipedia - Masahiro Nakai](https://en.wikipedia.org/wiki/Masahiro_Nakai)\\n\\n2. 中居正広、9000万円女性トラブルで「違約金10億円」の大誤算…番組もCMも続々中止で弱音「俺はもう芸能人をやめる」など、最近のトラブルの影響で、彼の出演する番組は急遽中止になります。\\n   - 出典: [Yahoo!ニュース - 中居正広、9000万円女性トラブル](https://news.yahoo.co.jp/articles/3a376f85eff0b974574bcd649e61eacd80cdbac5)\\n\\n3. 中居正広は2023年6月頃に女性との会食中に重大なトラブルが発生し、9000万円の示談金を支払う結果となったことが報じられています。\\n   - 出典: [NEWSポストセブン - 中居正広が女性との間に重大トラブル](https://www.news-postseven.com/archives/20241220_2012279.html?DETAIL)\\n\\n4. 中居正広のトラブルは、示談金が9000万円に上るため、問題が実刑判決に繋がる可能性があるとの見方もあります。このトラブルの影響で、彼が関わるCMや番組が次々と中止されている。\\n   - 出典: [デイリー新潮 - 中居正広「実刑判決が下るレベルの示談金」](https://news.yahoo.co.jp/articles/606b2761da2de699e751ab176dbc6b7567bede28)\\n\\n5. 中居正広は、重病から復帰後の会食でのトラブルが報じられており、その影響でスポンサーとの関係が厳しくなっているという報道があります。\\n   - 出典: [Yahoo!ニュース - 中居正広女性トラブルその後](https://news.yahoo.co.jp/articles/606b2761da2de699e751ab176dbc6b7567bede28)',\n",
       " 'URL_list': [URLInfo(title='Example Site 1', url='https://www.example1.com'),\n",
       "  URLInfo(title='Example Site 2', url='https://www.example2.com'),\n",
       "  URLInfo(title='Example Site 3', url='https://www.example3.com')],\n",
       " 'title': '中居正広の最近のトラブルと芸能界への影響',\n",
       " 'main_text': '## 導入\\n日本の人気タレント、中居正広さんが最近メディアで注目されています。それは、彼が女性との会食中に発生した重大なトラブルが影響しているとの報道が相次いでいるためです。このトラブルの詳細や、彼のキャリアに与える影響について詳しく見ていきましょう。\\n\\n## 中居正広のプロフィール\\n中居正広さんは1972年8月18日生まれの日本のテレビ司会者、俳優、ニュースキャスター、ラジオパーソナリティです。彼は多くのテレビ番組を担当し、特に「27時間テレビ」や「紅白歌合戦」などの大規模なイベントでの司会を務めてきました。  \\n[参照元: Wikipedia - Masahiro Nakai](https://en.wikipedia.org/wiki/Masahiro_Nakai)\\n\\n## 9000万円の示談金トラブル\\n2023年6月、中居さんは女性との会食中にトラブルが生じ、その結果9000万円という示談金が発生したことが報じられました。このトラブルは、彼が最近重病から復帰した後の出来事であり、個人的な問題だけでなく、彼の職業生活にも重い影響を及ぼしています。  \\n[参照元: Yahoo!ニュース - 中居正広、9000万円女性トラブル](https://news.yahoo.co.jp/articles/3a376f85eff0b974574bcd649e61eacd80cdbac5)\\n\\n## 芸能界への影響\\nこのトラブルの影響で、中居さんが関わるCMやテレビ番組が次々と中止となっている状況です。中には、違約金が10億円に達する可能性があるといった報道もあり、彼自身も「もう芸能人をやめるかもしれない」と弱音を吐く場面も見受けられます。\\n\\n## 実刑判決の可能性\\nその上、9000万円の示談金の高さから、実刑判決に繋がる可能性も懸念されています。トラブルが報じられたことによって、スポンサーとの関係も厳しくなり、中居さんの活動に対する影響は計り知れません。\\n[参照元: デイリー新潮 - 中居正広「実刑判決が下るレベルの示談金」](https://news.yahoo.co.jp/articles/606b2761da2de699e751ab176dbc6b7567bede28)\\n\\n## まとめ\\n中居正広さんの最近のトラブルは、彼の芸能活動に深刻な影響を与える可能性があります。多くのファンに愛される彼ですが、今後どのようにこの状況を乗り越えていくのか、注目が集まります。彼の再起を期待するファンも多いことでしょう。\\n\\n### 引用元  \\n- [Wikipedia - Masahiro Nakai](https://en.wikipedia.org/wiki/Masahiro_Nakai)  \\n- [Yahoo!ニュース - 中居正広、9000万円女性トラブル](https://news.yahoo.co.jp/articles/3a376f85eff0b974574bcd649e61eacd80cdbac5)  \\n- [NEWSポストセブン - 中居正広が女性との間に重大トラブル](https://www.news-postseven.com/archives/20241220_2012279.html?DETAIL)  \\n- [デイリー新潮 - 中居正広「実刑判決が下るレベルの示談金」](https://news.yahoo.co.jp/articles/606b2761da2de699e751ab176dbc6b7567bede28)  \\n- [Yahoo!ニュース - 中居正広女性トラブルその後](https://news.yahoo.co.jp/articles/606b2761da2de699e751ab176dbc6b7567bede28)  ',\n",
       " 'review_result': '構成: 8/10\\n誤字脱字・文法: 9/10\\n表現・内容のわかりやすさ: 8/10\\n評価理由:\\n構成: 記事全体の流れは良く、トピックの順序も論理的ですが、各セクションの情報をもう少し深掘りしてもよかった。特に中居正広さんのプロフィールのパートに、彼の代表作や受賞歴などの情報を追加することで、読者により興味を持たせることができる。 \\n誤字脱字・文法: 明らかな誤字や脱字は見受けられず、文法も正しい。一部の文がやや長く感じるため、短い文で分けるとさらに読みやすくなるかもしれない。 \\n表現・内容のわかりやすさ: 専門用語などは適切に使われており、一般読者にも理解しやすい。ただし、トラブルの詳細がもう少し具体的であれば、読者はより状況をイメージしやすくなったと考えられる。',\n",
       " 'edit_needed': True,\n",
       " 'edit_suggest': '各セクションにおいて、具体的な情報をより追加し、特にプロフィールの部分を強化する。例えば、代表的なテレビ番組名や受賞回数を示し、読者に中居正広さんの影響力を強調する。',\n",
       " 'edit_result': '## 導入\\n日本の人気タレント、中居正広さんが最近メディアで注目されています。それは、彼が女性との会食中に発生した重大なトラブルが影響しているとの報道が相次いでいるためです。このトラブルの詳細や、彼のキャリアに与える影響について詳しく見ていきましょう。\\n\\n## 中居正広のプロフィール\\n中居正広さんは1972年8月18日生まれの日本のテレビ司会者、俳優、ニュースキャスター、ラジオパーソナリティです。彼は多くのテレビ番組を担当し、特に「27時間テレビ」や「紅白歌合戦」、さらには「SMAP×SMAP」などの大規模なイベントでの司会を勤めてきました。また、彼は数々の賞を受賞しており、2018年には「日本アカデミー賞」優秀主演男優賞を受賞するなど、作品や活動が高く評価されています。中居さんは、バラエティー番組から情報番組まで、幅広いジャンルで活躍し、国民的人気を誇っています。  \\n[参照元: Wikipedia - Masahiro Nakai](https://en.wikipedia.org/wiki/Masahiro_Nakai)\\n\\n## 9000万円の示談金トラブル\\n2023年6月、中居さんは女性との会食中にトラブルが生じ、その結果9000万円という示談金が発生したことが報じられました。このトラブルは、彼が最近重病から復帰した後の出来事であり、個人的な問題だけでなく、彼の職業生活にも重い影響を及ぼしています。  \\n[参照元: Yahoo!ニュース - 中居正広、9000万円女性トラブル](https://news.yahoo.co.jp/articles/3a376f85eff0b974574bcd649e61eacd80cdbac5)\\n\\n## 芸能界への影響\\nこのトラブルの影響で、中居さんが関わるCMやテレビ番組が次々と中止となっている状況です。中には、違約金が10億円に達する可能性があるといった報道もあり、彼自身も「もう芸能人をやめるかもしれない」と弱音を吐く場面も見受けられます。\\n\\n## 実刑判決の可能性\\nその上、9000万円の示談金の高さから、実刑判決に繋がる可能性も懸念されています。トラブルが報じられたことによって、スポンサーとの関係も厳しくなり、中居さんの活動に対する影響は計り知れません。  \\n[参照元: デイリー新潮 - 中居正広「実刑判決が下るレベルの示談金」](https://news.yahoo.co.jp/articles/606b2761da2de699e751ab176dbc6b7567bede28)\\n\\n## まとめ\\n中居正広さんの最近のトラブルは、彼の芸能活動に深刻な影響を与える可能性があります。多くのファンに愛される彼ですが、今後どのようにこの状況を乗り越えていくのか、注目が集まります。彼の再起を期待するファンも多いことでしょう。\\n\\n### 引用元  \\n- [Wikipedia - Masahiro Nakai](https://en.wikipedia.org/wiki/Masahiro_Nakai)  \\n- [Yahoo!ニュース - 中居正広、9000万円女性トラブル](https://news.yahoo.co.jp/articles/3a376f85eff0b974574bcd649e61eacd80cdbac5)  \\n- [NEWSポストセブン - 中居正広が女性との間に重大トラブル](https://www.news-postseven.com/archives/20241220_2012279.html?DETAIL)  \\n- [デイリー新潮 - 中居正広「実刑判決が下るレベルの示談金」](https://news.yahoo.co.jp/articles/606b2761da2de699e751ab176dbc6b7567bede28)  \\n- [Yahoo!ニュース - 中居正広女性トラブルその後](https://news.yahoo.co.jp/articles/606b2761da2de699e751ab176dbc6b7567bede28)  '}"
      ]
     },
     "execution_count": 16,
     "metadata": {},
     "output_type": "execute_result"
    }
   ],
   "source": [
    "output = app.invoke(initial_state)\n",
    "output"
   ]
  },
  {
   "cell_type": "markdown",
   "metadata": {},
   "source": [
    "ドキュメント化"
   ]
  },
  {
   "cell_type": "code",
   "execution_count": 18,
   "metadata": {},
   "outputs": [
    {
     "name": "stdout",
     "output_type": "stream",
     "text": [
      "ver6_中居正広の最近のトラブルと芸能界への影響.md に保存しました。\n"
     ]
    }
   ],
   "source": [
    "markdown_text = f\"\"\"\n",
    "{output['title']}\n",
    "\n",
    "{output['edit_result']}\n",
    "\n",
    "\"\"\"\n",
    "file_name = f\"{ver}_{output['title']}.md\"\n",
    "folder = \"記事格納\"\n",
    "file_path = os.path.join(folder, file_name)\n",
    "\n",
    "# Markdownファイルとして保存する（.mdの拡張子推奨）\n",
    "with open(file_path, \"w\", encoding=\"utf-8\") as file:\n",
    "    file.write(markdown_text)\n",
    "\n",
    "print(f\"{file_name} に保存しました。\")\n"
   ]
  },
  {
   "cell_type": "markdown",
   "metadata": {},
   "source": [
    "ストリーミングでの取得方法"
   ]
  },
  {
   "cell_type": "code",
   "execution_count": 16,
   "metadata": {},
   "outputs": [
    {
     "data": {
      "text/plain": [
       "'\\nfor event in app.stream(initial_state):\\n    for k, v in event.items():\\n        if k != \"__end__\":\\n            print(v)\\n'"
      ]
     },
     "execution_count": 16,
     "metadata": {},
     "output_type": "execute_result"
    }
   ],
   "source": [
    "'''\n",
    "for event in app.stream(initial_state):\n",
    "    for k, v in event.items():\n",
    "        if k != \"__end__\":\n",
    "            print(v)\n",
    "'''  "
   ]
  }
 ],
 "metadata": {
  "kernelspec": {
   "display_name": "Python 3",
   "language": "python",
   "name": "python3"
  },
  "language_info": {
   "codemirror_mode": {
    "name": "ipython",
    "version": 3
   },
   "file_extension": ".py",
   "mimetype": "text/x-python",
   "name": "python",
   "nbconvert_exporter": "python",
   "pygments_lexer": "ipython3",
   "version": "3.12.3"
  }
 },
 "nbformat": 4,
 "nbformat_minor": 2
}
