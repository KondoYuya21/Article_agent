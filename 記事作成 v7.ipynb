{
 "cells": [
  {
   "cell_type": "markdown",
   "metadata": {},
   "source": [
    "v7\n",
    "\n",
    "追加検索を行う用ループを作成\n",
    "\n",
    "検索件数を増やす"
   ]
  },
  {
   "cell_type": "code",
   "execution_count": 153,
   "metadata": {},
   "outputs": [],
   "source": [
    "ver = \"ver7\""
   ]
  },
  {
   "cell_type": "markdown",
   "metadata": {},
   "source": [
    "ライブラリのインポート"
   ]
  },
  {
   "cell_type": "code",
   "execution_count": 154,
   "metadata": {},
   "outputs": [],
   "source": [
    "# ライブラリのインポート\n",
    "import os\n",
    "from dotenv import load_dotenv\n",
    "from langchain_openai import ChatOpenAI\n",
    "from langchain_community.tools.tavily_search import TavilySearchResults\n",
    "from langchain_core.messages import HumanMessage\n",
    "from langgraph.checkpoint.memory import MemorySaver\n",
    "from langchain_core.prompts import ChatPromptTemplate\n",
    "from langgraph.graph import END, START, StateGraph\n",
    "from langgraph.prebuilt import create_react_agent\n",
    "from typing import List, Dict\n",
    "from langchain.schema import SystemMessage, HumanMessage\n",
    "from typing_extensions import TypedDict\n",
    "from pydantic import BaseModel, Field\n",
    "\n",
    "load_dotenv()\n",
    "\n",
    "\n",
    "#LangchainのAPIを渡す\n",
    "os.environ[\"LANGCHAIN_TRACING\"] = \"true\"\n",
    "os.environ[\"LANGCHAIN_API_KEY\"] = os.getenv(\"LANGCHAIN_API_KEY\")\n",
    "\n",
    "#GPTのAPIを渡す\n",
    "os.environ[\"OPENAI_API_KEY\"] = os.getenv(\"OPENAI_API_KEY\")\n",
    "\n",
    "#TavilyのAPIを渡す\n",
    "os.environ[\"TAVILY_API_KEY\"] = os.getenv(\"TAVILY_API_KEY\")\n"
   ]
  },
  {
   "cell_type": "markdown",
   "metadata": {},
   "source": [
    "出力の型を定義"
   ]
  },
  {
   "cell_type": "code",
   "execution_count": 155,
   "metadata": {},
   "outputs": [],
   "source": [
    "class URLInfo(BaseModel):\n",
    "    title: str = Field(description=\"サイトのタイトル\")\n",
    "    url: str = Field(description=\"サイトのURL\")\n",
    "\n",
    "class OutputSummrize(BaseModel):\n",
    "    # URL_listをURLInfoモデルに変更\n",
    "    URL_list: List[URLInfo] = Field(description=\"記事作成に利用されたサイトのタイトルとURL\")\n",
    "\n",
    "\n",
    "class OutputArticle(BaseModel):\n",
    "    title: str = Field(description=\"記事のタイトル\")\n",
    "    main_text: str = Field(description=\"記事の中身\")\n",
    "\n",
    "class OutputReview(BaseModel):\n",
    "    review_result: str = Field(description=\"批評の結果\")\n",
    "    edit_needed: bool = Field(description=\"修正の必要があるか\")\n",
    "    edit_suggest: str = Field(description=\"修正案\")\n",
    "    search_needed: bool = Field(description=\"再検索が必要か\")\n",
    "    search_topic: str = Field(descripttion=\"再検索のトピック\")\n",
    "\n",
    "class OutputEdit(BaseModel):\n",
    "    edit_result: str = Field(description=\"修正の結果\")"
   ]
  },
  {
   "cell_type": "markdown",
   "metadata": {},
   "source": [
    "プロンプトの定義"
   ]
  },
  {
   "cell_type": "code",
   "execution_count": 156,
   "metadata": {},
   "outputs": [],
   "source": [
    "search_system_template = '''\n",
    "入力について調査してください\n",
    "'''\n",
    "\n",
    "\n",
    "'''\n",
    "あなたはユーザーから与えられたトピックについて調査を行うアシスタントです。\n",
    "調査で得られた情報と引用したサイトのタイトルとURLを出力してください。\n",
    "\n",
    "##注意\n",
    "    なるべく調査で得た情報はそのまま出力してください\n",
    "    まとめや要約はしないでください\n",
    "'''\n",
    "\n",
    "summrize_system_template = '''\n",
    "あなたは調査で得られたサイトの情報を集約するアシスタントです。\n",
    "調査で取得した結果から（{search_result}）サイトのタイトルとURL１つ１つを辞書形式({{\"title\": \"...\", \"url\": \"...\"}})にし、リスト形式で出力してください。\n",
    "'''\n",
    "\n",
    "generate_system_template = '''\n",
    "以下の内容を踏まえて、マークダウン形式で記事を作成してください。\n",
    "\n",
    "指定されたコンテンツ {content} に関する記事を日本語で作成してください。\n",
    "検索結果 {search_result} から得られる情報を整理し、読者にとって有益でわかりやすい記事を心がけてください。\n",
    "記事のタイトル、導入、本文、まとめの構成を意識し、最新かつ正確な情報を盛り込んでください。\n",
    "本文の末尾には、検索結果のサイトタイトルとURLを{URL_list}を参照の上、リスト形式で記載してください。\n",
    "\n",
    "Steps\n",
    "検索結果の内容を把握\n",
    "search_resultを確認し、主要なトピックやキーワードを整理してください。\n",
    "記事のアウトライン作成\n",
    "タイトル\n",
    "導入（リード文）\n",
    "見出し（必要に応じて複数）\n",
    "まとめ（結論やまとめ）\n",
    "本文執筆\n",
    "見出しや小見出しごとに論点をまとめ、論理的に構成してください。\n",
    "検索結果から得られた情報や一般知識を補完し、正確かつオリジナリティを意識した内容にしてください。\n",
    "結論・まとめ\n",
    "記事全体を振り返り、要点を簡潔にまとめてください。\n",
    "次の行動や関連トピックへの誘導など、読者が得られるメリットを提示してください。\n",
    "最終チェック\n",
    "誤字脱字、情報の正確性、読みやすさを確認し、必要に応じて修正してください。\n",
    "引用元の表記\n",
    "記事の末尾に、検索結果から参照したサイトのタイトルとURLをリスト形式で記載してください。\n",
    "Output Format\n",
    "マークダウン形式で出力してください。\n",
    "改行や段落を保持し、見出しや箇条書きを適切に使ってください。\n",
    "記事末尾に「引用元」として、サイトタイトルとURLを記載してください。\n",
    "Examples\n",
    "例:\n",
    "\n",
    "タイトル: 「[検索結果の主要トピック]を徹底解説」\n",
    "導入: この記事では…（簡単な背景情報と読者が得られるメリット）\n",
    "\n",
    "本文\n",
    "\n",
    "見出し1: 「[見出しのテーマ]」\n",
    "[検索結果からの情報を例示しながら解説]\n",
    "見出し2: 「[別の角度や詳細トピック]」\n",
    "[具体的な事例や追加情報など]\n",
    "まとめ: [全体の要点、読者への次のステップ]\n",
    "\n",
    "引用元\n",
    "\n",
    "サイト名\n",
    "サイト名\n",
    "(実際の記事では、上記より詳細かつ具体的に説明してください)\n",
    "\n",
    "Notes\n",
    "search_result や contentが十分でない場合は、想定しうる前提条件を補足して文章を構成してください。\n",
    "あくまで検索結果を根拠にしつつも、独自の言い回しや整理を行い、オリジナリティを大切にしてください。\n",
    "'''\n",
    "\n",
    "review_system_template = '''\n",
    "評価対象の記事（{main_text}）を以下の3観点でそれぞれ0〜10点で採点し、理由を説明したうえで修正の必要性をブール値（true / false）で示し、必要な場合は修正案を提示してください。\n",
    "また、修正に際して、再度情報探索が必要と考える場合は、検索の必要性をブール値（true / false）で示し、検索を行うトピックを簡潔に提示してください。\n",
    "\n",
    "構成\n",
    "誤字脱字・文法\n",
    "表現・内容のわかりやすさ\n",
    "出力フォーマット\n",
    "構成: [点数]/10\n",
    "誤字脱字・文法: [点数]/10\n",
    "表現・内容のわかりやすさ: [点数]/10\n",
    "評価理由:\n",
    "各観点において、なぜその点数なのかを具体的に説明\n",
    "修正の有無: [true or false]\n",
    "true: 修正が必要な場合\n",
    "false: 修正が不要な場合\n",
    "修正案 (修正が必要な場合のみ)\n",
    "例\n",
    "入力記事: 「今日は天気がいいです。こうえんに行くと、こどもたちがとても楽しそうにあそんでいました。」\n",
    "\n",
    "想定出力:\n",
    "\n",
    "構成: 7/10\n",
    "誤字脱字・文法: 8/10\n",
    "表現・内容のわかりやすさ: 7/10\n",
    "評価理由:\n",
    "構成: 簡潔で理解はしやすいが、段落を分けて詳細を説明するとさらに良くなる\n",
    "誤字脱字・文法: 「こうえん」は「公園」、「あそんでいました」は「遊んでいました」が望ましい\n",
    "表現・内容のわかりやすさ: 全体的な内容は伝わるが、周囲の状況を少し描写すると魅力が増す\n",
    "修正の有無: true\n",
    "修正案:\n",
    "「今日は天気がいいです。公園に行くと、子どもたちがとても楽しそうに遊んでいました。\n",
    "周りの木々は新緑に包まれ、ピクニックをする家族もいて笑顔があふれていました。」\n",
    "必要に応じて例を参照のうえ、指示に沿って出力してください。\n",
    "'''\n",
    "\n",
    "edit_system_template = '''\n",
    "元の記事（{main_text}）を基に、修正案（{edit_suggest}）の指示に従って記事を修正し、最終版を出力してください。\n",
    "再検索結果({search_result})がある場合は、そちらも利用して修正案を出力してください\n",
    "\n",
    "修正案で指示された内容をすべて反映すること\n",
    "元の記事の文体や構成は、修正案が特に指示していない限り保持すること\n",
    "誤字脱字や表現の不整合があればあわせて修正すること\n",
    "手順\n",
    "修正案を確認する\n",
    "変更箇所や追記・削除の指示などを正確に把握してください。\n",
    "元の記事を確認する\n",
    "修正案で指定されている箇所を重点的に確認し、対応する内容を特定してください。\n",
    "指示に基づき修正を行う\n",
    "追記や文章の書き換えなど、必要な修正を行ってください。\n",
    "全体の流れや文脈が崩れないように注意しながら改稿してください。\n",
    "整合性をチェックする\n",
    "前後の文脈や用語の統一を含め、記事の整合性を確認してください。\n",
    "再度誤字脱字や表現のブレがないか検証してください。\n",
    "最終的な記事として出力する\n",
    "必要な変更がすべて適用されているかを確認し、最終的に完成した記事を提示してください。\n",
    "出力形式\n",
    "修正済みの記事本文のみを提示してください。\n",
    "余計な解説やメタ情報は含めないでください。\n",
    "例\n",
    "例：入力（修正案 & 元の記事）\n",
    "\n",
    "修正案:\n",
    "第一段落の最後の文を削除する。\n",
    "第二段落に記載の数値データを最新のものに置き換える。\n",
    "元の記事（一部抜粋）:\n",
    "[元の文章がここに入ります]\n",
    "例：出力（修正後の記事）\n",
    "[修正を反映させた文章のみを提示。指定された文章の削除や数値修正を適切に行い、余計なコメントは付けずに出力。]\n",
    "\n",
    "(実際の元の記事や修正案が長い場合は、それに応じて適切に修正を行ってください)\n",
    "\n",
    "備考\n",
    "修正指示に曖昧な点がある場合は、文脈から最も適切と思われる内容で補ってください。\n",
    "記事全体のトーンや文体が著しく変わらないよう配慮してください。\n",
    "出力時は完成した記事のみを提示し、他の要素は含めないでください。\n",
    "'''\n"
   ]
  },
  {
   "cell_type": "markdown",
   "metadata": {},
   "source": [
    "エージェントの定義"
   ]
  },
  {
   "cell_type": "code",
   "execution_count": 157,
   "metadata": {},
   "outputs": [],
   "source": [
    "#ツールを利用するエージェント\n",
    "#ChatOpenAIでチャットモデルを渡す（モデルは変更できる）\n",
    "model = ChatOpenAI(model=\"gpt-4o-mini\")\n",
    "\n",
    "# Tavilyの定義　max_results:何件文の検索結果を保持するか\n",
    "search = TavilySearchResults(\n",
    "    max_results=10,\n",
    "    search_depth=\"advanced\",\n",
    "    include_answer=True,\n",
    "    include_raw_content=True\n",
    ")\n",
    "tools = [search]\n",
    "\n",
    "search_agent = create_react_agent(model, tools)"
   ]
  },
  {
   "cell_type": "code",
   "execution_count": 158,
   "metadata": {},
   "outputs": [],
   "source": [
    "#URLを保持するエージェント\n",
    "summrize_prompt = ChatPromptTemplate.from_messages(\n",
    "    [\n",
    "        (\"system\", summrize_system_template)\n",
    "    ]\n",
    ")\n",
    "\n",
    "summrize_output = model.with_structured_output(\n",
    "    OutputSummrize\n",
    ")\n",
    "\n",
    "summrize_agent = summrize_prompt | summrize_output"
   ]
  },
  {
   "cell_type": "code",
   "execution_count": 159,
   "metadata": {},
   "outputs": [],
   "source": [
    "#記事作成を行うエージェント\n",
    "generate_prompt = ChatPromptTemplate.from_messages(\n",
    "    [\n",
    "        (\"user\", generate_system_template),\n",
    "    ]\n",
    ")\n",
    "\n",
    "generate_output = model.with_structured_output(\n",
    "    OutputArticle\n",
    ")\n",
    "generate_agent = generate_prompt | generate_output\n"
   ]
  },
  {
   "cell_type": "code",
   "execution_count": 160,
   "metadata": {},
   "outputs": [],
   "source": [
    "#批評を行うエージェント\n",
    "review_prompt = ChatPromptTemplate.from_messages(\n",
    "    [\n",
    "        (\"user\", review_system_template),\n",
    "    ]\n",
    ")\n",
    "\n",
    "review_output = model.with_structured_output(\n",
    "    OutputReview\n",
    ")\n",
    "review_agent = review_prompt | review_output"
   ]
  },
  {
   "cell_type": "code",
   "execution_count": 161,
   "metadata": {},
   "outputs": [],
   "source": [
    "#修正を行うエージェント\n",
    "edit_prompt = ChatPromptTemplate.from_messages(\n",
    "    [\n",
    "        (\"user\", edit_system_template),\n",
    "    ]\n",
    ")\n",
    "\n",
    "edit_output = model.with_structured_output(\n",
    "    OutputEdit\n",
    ")\n",
    "edit_agent = edit_prompt | edit_output"
   ]
  },
  {
   "cell_type": "markdown",
   "metadata": {},
   "source": [
    "stateの定義"
   ]
  },
  {
   "cell_type": "code",
   "execution_count": 162,
   "metadata": {},
   "outputs": [],
   "source": [
    "class State(TypedDict):\n",
    "    #入力\n",
    "    content: List[str] #ユーザーが入力した記事の内容\n",
    "    \n",
    "    #調査関連\n",
    "    search_result: List[str] #LLMが調査を行った結果を格納\n",
    "    URL_list:List[Dict[str, str]] #URLのリスト\n",
    "    \n",
    "    #記事作成関連\n",
    "    title: str #生成された記事のタイトル\n",
    "    main_text:str #生成された記事の内容\n",
    "    \n",
    "    #批評関連\n",
    "    review_result: List[str] #批評の結果　本文\n",
    "    edit_needed: bool #修正の有無\n",
    "    edit_suggest: List[str] #修正案\n",
    "    search_needed: bool #検索の有無\n",
    "\n",
    "    #修正関連\n",
    "    edit_result: List[str] #修正後の本文\n",
    "    \n",
    "    iteration_count: int #イテレーションの現在の回数　デフォルトは０"
   ]
  },
  {
   "cell_type": "markdown",
   "metadata": {},
   "source": [
    "各ノードの関数"
   ]
  },
  {
   "cell_type": "code",
   "execution_count": 168,
   "metadata": {},
   "outputs": [],
   "source": [
    "def search(state: State):\n",
    "    response = search_agent.invoke(\n",
    "        {\"messages\": [\n",
    "#            {\"role\": \"system\", \"content\": search_system_template},\n",
    "            {\"role\": \"user\", \"content\": f\"{state[\"content\"][-1]}について調査を行い、まとめてください\"}\n",
    "            ]\n",
    "        }\n",
    "    )\n",
    "    state[\"search_result\"].append([response[\"messages\"][-1].content])\n",
    "    return state\n",
    "\n",
    "def search_summrize(state: State):\n",
    "    response = summrize_agent.invoke(state)\n",
    "    state[\"URL_list\"].append(response.URL_list)\n",
    "    return state\n",
    "\n",
    "def generate_article(state: State):\n",
    "    response = generate_agent.invoke(state)\n",
    "    state[\"title\"] = response.title\n",
    "    state[\"main_text\"] = response.main_text\n",
    "    return state\n",
    "\n",
    "def review_article(state: State):\n",
    "    response = review_agent.invoke(state)\n",
    "    state[\"review_result\"].append(response.review_result)\n",
    "    state[\"edit_needed\"] = response.edit_needed\n",
    "    state[\"edit_suggest\"].append(response.edit_suggest)\n",
    "    state[\"search_needed\"] = response.search_needed\n",
    "    state[\"content\"].append(response.search_topic)\n",
    "    state[\"iteration_count\"] +=  1\n",
    "    return state\n",
    "\n",
    "def edit_article(state: State):\n",
    "    response = edit_agent.invoke(state)\n",
    "    state[\"edit_result\"].append(response.edit_result)\n",
    "    return state\n",
    "\n",
    "def router1(state):\n",
    "    # This is the router\n",
    "    messages_edit = state[\"edit_needed\"]\n",
    "    messages_search = state[\"search_needed\"]\n",
    "    if messages_edit and messages_search:\n",
    "        return \"search\"\n",
    "    elif messages_edit:\n",
    "        return \"edit_article\"\n",
    "    else:\n",
    "        return \"end\"\n",
    "    \n",
    "\n",
    "def router2(state):\n",
    "    # This is the router\n",
    "    messages_iter = state[\"iteration_count\"]\n",
    "    if messages_iter == 0:\n",
    "        return \"generate_article\"\n",
    "    elif messages_iter <= 3:\n",
    "        return \"edit_article\"\n",
    "    else:\n",
    "        return \"end\"\n",
    "    \n"
   ]
  },
  {
   "cell_type": "markdown",
   "metadata": {},
   "source": [
    "グラフの作成"
   ]
  },
  {
   "cell_type": "code",
   "execution_count": 169,
   "metadata": {},
   "outputs": [],
   "source": [
    "#グラフの定義\n",
    "workflow = StateGraph(State)\n",
    "\n",
    "#ノードの定義\n",
    "workflow.add_node(\"search\", search)\n",
    "workflow.add_node(\"search_summrize\", search_summrize)\n",
    "workflow.add_node(\"generate_article\", generate_article)\n",
    "workflow.add_node(\"review_article\", review_article)\n",
    "workflow.add_node(\"edit_article\", edit_article)\n",
    "\n",
    "#エッジの定義\n",
    "workflow.add_edge(START, \"search\")\n",
    "workflow.add_edge(\"search\", \"search_summrize\")\n",
    "#workflow.add_edge(\"search_summrize\", \"generate_article\")\n",
    "workflow.add_edge(\"generate_article\", \"review_article\")\n",
    "workflow.add_edge(\"edit_article\", \"review_article\")\n",
    "\n",
    "workflow.add_conditional_edges(\n",
    "    \"review_article\", # <- 起点のエージェント\n",
    "    router1, # <- ルーターの戻り値を条件とするという定義\n",
    "    {\"search\": \"search\",\"edit_article\": \"edit_article\", \"end\": END}, # <- 2パターンの定義\n",
    ")\n",
    "workflow.add_conditional_edges(\n",
    "    \"search_summrize\", # <- 起点のエージェント\n",
    "    router2, # <- ルーターの戻り値を条件とするという定義\n",
    "    {\"generate_article\": \"generate_article\",\"edit_article\": \"edit_article\", \"end\": END}, # <- 2パターンの定義\n",
    ")\n",
    "\n",
    "#コンパイル\n",
    "app = workflow.compile()\n"
   ]
  },
  {
   "cell_type": "code",
   "execution_count": 170,
   "metadata": {},
   "outputs": [
    {
     "data": {
      "image/png": "[encoded data removed]",
      "text/plain": [
       "<IPython.core.display.Image object>"
      ]
     },
     "metadata": {},
     "output_type": "display_data"
    }
   ],
   "source": [
    "#グラフの可視化\n",
    "from IPython.display import Image, display\n",
    "\n",
    "display(Image(app.get_graph(xray=True).draw_mermaid_png()))\n",
    "from IPython.display import Image, display\n"
   ]
  },
  {
   "cell_type": "markdown",
   "metadata": {},
   "source": [
    "トピックの定義"
   ]
  },
  {
   "cell_type": "code",
   "execution_count": 171,
   "metadata": {},
   "outputs": [],
   "source": [
    "initial_state = State()\n",
    "initial_state[\"content\"] = [\"中居正広\"]\n",
    "initial_state[\"iteration_count\"] = 0\n",
    "initial_state[\"search_result\"] = []\n",
    "initial_state[\"review_result\"] = []\n",
    "initial_state[\"edit_suggest\"] = []\n",
    "initial_state[\"edit_result\"] = []\n",
    "initial_state[\"URL_list\"] = []"
   ]
  },
  {
   "cell_type": "markdown",
   "metadata": {},
   "source": [
    "グラフの実行"
   ]
  },
  {
   "cell_type": "code",
   "execution_count": 172,
   "metadata": {},
   "outputs": [
    {
     "data": {
      "text/plain": [
       "{'content': ['中居正広',\n",
       "  '',\n",
       "  '中居正広の最近のトラブルに関する詳細情報',\n",
       "  '中居正広の最近の活動やトラブルの詳細',\n",
       "  '',\n",
       "  '中居正広のトラブルに関する詳細情報'],\n",
       " 'search_result': [['中居正広（なかい まさひろ）は、日本の元タレント、司会者、俳優、歌手で、1972年8月18日生まれです。彼は男性アイドルグループ・SMAPの元メンバーであり、愛称は「中居くん」です。\\n\\n近年、中居正広は女性とのトラブルによって芸能界からの引退を余儀なくされました。特に、彼が多額の解決金を支払ったという報道があり、その問題はテレビ業界全体を巻き込むスキャンダルに発展しました。このトラブルはフジテレビにも大きな影響を及ぼし、彼のタレント生命が絶たれる結果となったと言われています。\\n\\nまた、中居は最近、絵本『♪ピンポンパンポンプー』を監修しており、劇団ひとりがキャラクターデザイン、古市憲寿が文を書いた作品として、売り上げが急上昇していることも報じられています。\\n\\n詳しい情報については、こちらのリンクをご覧ください：[中居正広 - Wikipedia](https://ja.wikipedia.org/wiki/%E4%B8%AD%E5%B1%85%E6%AD%A3%E5%BA%83)。'],\n",
       "  ['中居正広さんの最近のトラブルに関する情報をまとめました。\\n\\n### トラブルの概要\\n- 中居正広さんは、2023年6月に女性との間でトラブルを起こし、約9000万円の解決金を支払ったという報道があります。この問題により、彼は2025年1月23日に芸能界から引退することを発表しました。\\n- トラブルが発生したのは、女性との会食の際に何らかの問題が生じたことが報じられています。また、報道によれば、トラブルに関与していたのはフジテレビの編成幹部社員である可能性があるとされています。\\n\\n### フジテレビの対応\\n- フジテレビは、問題発覚後の1月17日に記者会見を開きましたが、参加メディアを制限し、質疑応答にはあまり応じなかったため、大きな批判を受けています。\\n- 1月27日には、フジテレビの社長と会長が辞任を発表しましたが、株主の中には、取締役相談役の日枝久氏の辞任を求める声もあります。\\n- トラブルの発端となった件について、フジテレビは初動での対応が不十分であったとして謝罪しました。特に、女性への配慮が欠けていたとの指摘があります。\\n\\n### 社会的影響\\n- 中居さんのトラブルは日本の芸能界に大きな波紋を広げ、特にフジテレビのガバナンス（企業統治）が問われています。過去の類似した問題に学ばず、適切な対応ができなかったことが批判されています。\\n- 現在、フジテレビには70社以上のスポンサー企業がCM放映を見合わせており、企業としての信頼性にも影響が出ています。\\n\\n### 主な批判点\\n- フジテレビのガバナンスは機能しておらず、問題への取り組みが後手に回っているという意見。\\n- 中居さんの番組が問題発覚後も続けられたことで、被害者や社会への配慮が不十分な態度が見受けられるとの批判。\\n\\nこのトラブルは、個人の問題だけでなく、企業としての信頼性や社会的責任についても大きな質問を投げかける事態となっています。'],\n",
       "  ['中居正広さんに関する最近の活動やトラブルについての情報をまとめました。\\n\\n### 活動の概要\\n中居正広さんは、2023年に数々のテレビ番組で活躍していましたが、2025年1月23日に自身のファンクラブサイトで芸能活動を引退することを発表しました。引退の理由には、女性とのトラブルが影響しているとされています。\\n\\n### トラブルの詳細\\n1. **トラブルの発覚**: トラブルは2023年6月に発生し、女性と中居さんの2人きりの食事会がきっかけと言われています。この際、女性は「性被害を受けた」と主張し、解決金として9000万円を支払ったとの報道があります（週刊文春より）。\\n\\n2. **フジテレビの対応**: フジテレビはこのトラブルを2023年の6月に把握していたにもかかわらず、同社の港浩一社長は約1年半後の2025年1月17日に記者会見を開きました。この会見では、第三者による調査委員会を設置することが発表されましたが、出席者を限定した形式で行われ、多くの質問には答えられない状況でした。この会見が「逃げ」の姿勢と批判され、フジテレビのガバナンスに疑問が呈されました。\\n\\n3. **社会的反響**: この一連のトラブルは、フジテレビの企業としての責任や、メディアとしての信頼に大きな影響を与えました。スポンサー企業の中には、CMの見合わせを決定するところもあり、メディアの信頼性への影響が懸念されています。\\n\\n4. **詳しい経緯や批判**: 専門家からは、フジテレビの対応は過去の教訓を生かしていないといった批判が寄せられています。特に、「人権感覚が低い」との指摘や、クローズドな会見が逆に信頼を失う結果になったという意見が相次ぎました。\\n\\n### 引退の発表\\n中居さんが引退を発表した際のコメントには「お詫び」の言葉があり、トラブルに対する謝罪や、関係者への感謝が述べられました。\\n\\n以上が中居正広さんに関する最近の活動やトラブルの概要です。彼の今後の動向や影響については、引き続き注目が集まっています。'],\n",
       "  ['中居正広さんに関連するトラブルが2023年6月に発生し、その後、フジテレビ社内での対応が問題視されています。以下に、事態の詳細をまとめます。\\n\\n### トラブルの概要\\n- 中居正広さん（元SMAPメンバー）は20代の女性との間でトラブルを起こし、約9000万円の解決金を支払ったとの報道が複数の週刊誌に掲載されました。具体的には、性的な問題があったとされていますが、中居さんはこの点については守秘義務を理由に詳細を明らかにしていません。\\n\\n### フジテレビの関与\\n- トラブルが発覚した経緯には、フジテレビの編成幹部が開いた会食があり、そこで問題が発生したとの報道もあります。6月にトラブルを認識したフジテレビは、コンプライアンス部門に情報を共有せず、中居さんに対する聞き取りも行わなかったため、問題の対処が後手に回りました。\\n\\n### 社内対応と罰則\\n- フジテレビは1月に記者会見を開き、外部の弁護士による第三者委員会を設置すると発表しましたが、参加者を限定し、質問への回答も控えており、批判を受けました。会見後、多くのスポンサー企業がCMの放映を中止する事態となりました。\\n\\n### 経営陣の辞任\\n- フジテレビの社長や会長は、トラブルに対する責任を取り辞任しました。特に、問題の発端とされる日枝久相談役の進退が焦点になっています。日枝氏は長期間にわたりフジテレビを支配しており、企業文化の問題が指摘されています。\\n\\n### 中居正広の引退\\n- 中居さんは2025年1月23日に芸能活動からの引退を表明しています。これに対し、ファンや視聴者からは驚きとともに残念という声が多く上がりました。\\n\\n### 今後の展望\\n- 現在、フジテレビは第三者委員会による調査を進めており、その結果が注目されています。また、日枝氏の退任が求められており、会社全体のガバナンスが問われる状況です。\\n\\nこのトラブルは日本のメディア業界に大きな波紋を呼んでおり、今後の展開が注目されています。']],\n",
       " 'URL_list': [[URLInfo(title='中居正広 - Wikipedia', url='https://ja.wikipedia.org/wiki/%E4%B8%AD%E5%B1%85%E6%AD%A3%E5%BA%83')],\n",
       "  [URLInfo(title='中居正広 - Wikipedia', url='https://ja.wikipedia.org/wiki/%E4%B8%AD%E5%B1%85%E6%AD%A3%E5%BA%83')],\n",
       "  [URLInfo(title='中居正広 - Wikipedia', url='https://ja.wikipedia.org/wiki/%E4%B8%AD%E5%B1%85%E6%AD%A3%E5%BA%83')],\n",
       "  [URLInfo(title='中居正広 - Wikipedia', url='https://ja.wikipedia.org/wiki/%E4%B8%AD%E5%B1%85%E6%AD%A3%E5%BA%83')]],\n",
       " 'title': '中居正広の軌跡と現在',\n",
       " 'main_text': '## 導入\\n中居正広（なかいまさひろ）は、日本のエンターテインメント界において、特に影響力のある存在であり、かつてはアイドルグループSMAPのメンバーとして活躍していました。彼のキャリアは多岐にわたり、司会者、俳優、歌手として多くのファンに愛されています。しかし、最近では彼の活動やプライベートの問題に関するニュースが取り沙汰されています。\\n\\n## 中居正広のキャリア\\n中居正広は1972年8月18日に生まれ、1991年にSMAPの一員としてデビューしました。グループは多くのヒット曲を持ち、特に「世界に一つだけの花」は広く知られています。中居自身は「中居くん」として親しまれ、バラエティ番組の司会者としても高い評価を受けてきました。彼の特徴的なスタイルとユーモアは、多くの視聴者に愛され続けています。\\n\\n## 最近のトラブル\\n近年、中居正広は女性とのトラブルにより、芸能界からの引退を余儀なくされました。報道によると、彼は多額の解決金を支払ったとされています。この問題は、テレビ業界全体にも大きな影響を与え、特にフジテレビとの関係にも影響を及ぼしています。彼は一時の動向により、タレント活動が停滞していますが、このトラブルの全容は今後も注目されるでしょう。\\n\\n## 現在の活動\\nしかし、暗いニュースだけではありません。中居正広は最近、絵本『♪ピンポンパンポンプー』を監修しました。この絵本は劇団ひとりがキャラクターデザインを担当し、古市憲寿の文によって描かれた作品です。その結果、売上が急上昇していることも報じられており、それにより彼のクリエイティブな側面が再評価されています。今後、彼の新たな活動にも期待が寄せられます。\\n\\n## まとめ\\n中居正広はエンターテインメント界で長い歴史を持つ人物であり、現在は波乱の時期を迎えています。彼のキャリアには光と影が交錯していますが、今後の動向と新たな挑戦に注目が集まっています。彼の復活を期待するファンも多く、今後の展開に目が離せません。\\n\\n### 引用元\\n- 中居正広 - Wikipedia\\n  https://ja.wikipedia.org/wiki/%E4%B8%AD%E5%B1%85%E6%AD%A3%E5%BA%83',\n",
       " 'review_result': ['構成: 8/10\\n誤字脱字・文法: 9/10\\n表現・内容のわかりやすさ: 8/10\\n評価理由:\\n構成: 記事全体の流れはスムーズで、導入からまとめまでが整然としている。ただし、最近のトラブルと現在の活動の関連性をもう少し繋げて説明するとより良い印象になる。\\n誤字脱字・文法: 特に目立った誤字脱字はなく、文法的にも正確である。ただし、「中居正広は最近、絵本『♪ピンポンパンポンプー』を監修しました。」の部分で、監修の具体的内容をもう少し詳しく説明するとさらに良い。 \\n表現・内容のわかりやすさ: 表現は全体的にわかりやすく、読者に伝えたいことはよく伝わる。だが、中居正広のトラブルの内容や、絵本の具体的なユニークさについてもう少し詳しく述べると、読者の理解が深まる。\\n修正の有無: true\\n修正案:\\n「中居正広は最近、絵本『♪ピンポンパンポンプー』を監修しました。この絵本は劇団ひとりがキャラクターデザインを担当し、古市憲寿の文によって描かれたもので、子どもたちに愛される可愛らしいキャラクターが登場します。この作品は、親たちにも高く評価されており、売上が急上昇しています。彼のクリエイティブな側面が再評価されるきっかけとなったと言えるでしょう。」',\n",
       "  '構成: 8/10\\n誤字脱字・文法: 9/10\\n表現・内容のわかりやすさ: 8/10\\n評価理由:\\n構成: 内容が明確に段落で分かれており、流れも自然だが、トラブルのセクションがやや急に現れるため、もう少し詳しく背景を説明するとよい。  \\n誤字脱字・文法: 特に目立つ誤字脱字はなく、文法的にも正しい。  \\n表現・内容のわかりやすさ: 情報は伝わってくるが、トラブルに関する詳細を追加すれば、読者が理解しやすくなる。',\n",
       "  'この文章は全体として中居正広のキャリアや最近のトラブルについて詳細に述べています。ただし、いくつかの点で改善が必要です。',\n",
       "  '構成全体が分かりやすく、情報がよく整理されているが、もう少し段落を分けて具体的な情報を強調することで、読みやすさが向上する。誤字や脱字は見当たらないが、表現として「近年、中居正広は女性とのトラブルにより、芸能界からの引退を余儀なくされました。」という文は、引退という表現が正確でない場合は修正が必要。内容は簡潔で明確だが、言い回しが工夫されるとなお良くなる。',\n",
       "  '構成: 8/10\\n誤字脱字・文法: 9/10\\n表現・内容のわかりやすさ: 8/10\\n評価理由:\\n構成: 記事全体は論理的に整理されており、各セクションが明確に役割を果たしている。特に中居正広のキャリアや最近の動向に関する記述はわかりやすいが、トラブルの部分で少し詳細が不足しているため、もう少し具体例を挙げると良い。 \\n誤字脱字・文法: 明白な誤字や脱字はなく、文法的にもほぼ完璧である。 \\n表現・内容のわかりやすさ: 全体的な内容は理解できるが、いくつかの部分で読み手に更に興味を引くような表現を用いた方が良い。特に彼の新たな活動についてもう少し具体的な内容を入れると、一層興味を持たれるだろう。'],\n",
       " 'edit_needed': True,\n",
       " 'edit_suggest': ['中居正広の絵本の内容を詳細に説明し、トラブルとの関連性を強化する。',\n",
       "  'トラブルのセクションをもう少し詳しくし、中居正広の影響や業界への影響についての具体例を追加すると良いでしょう。',\n",
       "  '以下の3点を修正するとより良い文章になるでしょう。1. 最近のトラブルについて正確な表現にする。たとえば、\"引退を余儀なくされました\"は誤解を招く恐れがあり、実質的には活動を控えているだけであることを明記する。2. 中居の絵本に関する情報をもう少し詳しく説明し、それがどのように彼のキャリアに影響を与えているのかを具体的に述べる。3. 構成を見直し、重要なポイントを突出させることで情報の流れをよりスムーズにする。',\n",
       "  '「近年、中居正広は女性とのトラブルにより、芸能界からの引退を余儀なくされました。」を、「近年、中居正広は女性とのトラブルが報じられ、一時的にタレント活動を休止する状況に陥りました。」と修正すると、より正確な表現となります。また、全体的に段落ごとにテーマを明確にし、内容をもう少し掘り下げると良いでしょう。',\n",
       "  '「最近のトラブル」セクションをもう少し具体的にし、トラブルが与えた影響についても詳しく述べる。また、「現在の活動」セクションでは、絵本の内容やテーマについての詳細を加えることで、彼のクリエイティブな側面をより具体的に紹介すると良い。'],\n",
       " 'search_needed': True,\n",
       " 'edit_result': ['## 導入  \\n中居正広（なかいまさひろ）は、日本のエンターテインメント界において、特に影響力のある存在であり、かつてはアイドルグループSMAPのメンバーとして活躍していました。彼のキャリアは多岐にわたり、司会者、俳優、歌手として多くのファンに愛されています。しかし、最近では彼の活動やプライベートの問題に関するニュースが取り沙汰されています。  \\n\\n## 中居正広のキャリア  \\n中居正広は1972年8月18日に生まれ、1991年にSMAPの一員としてデビューしました。グループは多くのヒット曲を持ち、特に「世界に一つだけの花」は広く知られています。中居自身は「中居くん」として親しまれ、バラエティ番組の司会者としても高い評価を受けてきました。彼の特徴的なスタイルとユーモアは、多くの視聴者に愛され続けています。  \\n\\n## 最近のトラブル  \\n近年、中居正広は女性とのトラブルにより、芸能界からの引退を余儀なくされました。報道によると、彼は多額の解決金を支払ったとされ、この問題はテレビ業界全体にも大きな影響を与え、特にフジテレビとの関係にも影響を及ぼしています。彼は一時の動向により、タレント活動が停滞していますが、このトラブルの全容は今後も注目されるでしょう。  \\n\\n## 現在の活動  \\nしかし、暗いニュースだけではありません。中居正広は最近、絵本『♪ピンポンパンポンプー』を監修しました。この絵本は劇団ひとりがキャラクターデザインを担当し、古市憲寿の文によって描かれた作品です。内容は、子供たちに向けた楽しいリズムやメロディをテーマにしたもので、親子で楽しめる絵本になっています。売上が急上昇していることも報じられており、これにより彼のクリエイティブな側面が再評価されています。トラブルによる活動停滞の中でも、新たな取り組みによって注目を集める中居正広の姿勢は、ファンにとって希望の光となっています。  \\n\\n## まとめ  \\n中居正広はエンターテインメント界で長い歴史を持つ人物であり、現在は波乱の時期を迎えています。彼のキャリアには光と影が交錯していますが、今後の動向と新たな挑戦に注目が集まっています。彼の復活を期待するファンも多く、今後の展開に目が離せません。  \\n\\n### 引用元  \\n- 中居正広 - Wikipedia  \\n  https://ja.wikipedia.org/wiki/%E4%B8%AD%E5%B1%85%E6%AD%A3%E5%BA%83',\n",
       "  '## 導入\\n中居正広（なかいまさひろ）は、日本のエンターテインメント界において、特に影響力のある存在であり、かつてはアイドルグループSMAPのメンバーとして活躍していました。彼のキャリアは多岐にわたり、司会者、俳優、歌手として多くのファンに愛されています。しかし、最近では彼の活動やプライベートの問題に関するニュースが取り沙汰されています。\\n\\n## 中居正広のキャリア\\n中居正広は1972年8月18日に生まれ、1991年にSMAPの一員としてデビューしました。グループは多くのヒット曲を持ち、特に「世界に一つだけの花」は広く知られています。中居自身は「中居くん」として親しまれ、バラエティ番組の司会者としても高い評価を受けてきました。彼の特徴的なスタイルとユーモアは、多くの視聴者に愛され続けています。\\n\\n## 最近のトラブル\\n近年、中居正広は女性とのトラブルにより、芸能界からの引退を余儀なくされました。特に、2023年6月に女性との間でトラブルを起こし、約9000万円の解決金を支払ったという報道があり、この問題はテレビ業界全体にも大きな影響を与えています。報道によると、トラブルが発生したのは女性との会食の際であり、関与が疑われているのはフジテレビの編成幹部社員である可能性があります。これにより、彼のタレント活動が一時停滞しており、特にフジテレビとの関係にも影響を及ぼしています。このトラブルは、過去の類似した問題から教訓を得ることができなかったことに起因し、フジテレビのガバナンスが問われる事態となっています。また、彼の番組が問題発覚後も続けられたため、被害者や社会への配慮が不十分との批判も多く、芸能界全体に大きな波紋を広げています。\\n\\n## 現在の活動\\nしかし、暗いニュースだけではありません。中居正広は最近、絵本『♪ピンポンパンポンプー』を監修しました。この絵本は劇団ひとりがキャラクターデザインを担当し、古市憲寿の文によって描かれた作品です。特に、この絵本は子供たちに向けた教育的な要素が含まれており、彼の新たなクリエイティブな側面が再評価されています。売上が急上昇していることも報じられており、今後の彼の新たな活動に期待が寄せられています。\\n\\n## まとめ\\n中居正広はエンターテインメント界で長い歴史を持つ人物であり、現在は波乱の時期を迎えています。彼のキャリアには光と影が交錯していますが、今後の動向と新たな挑戦に注目が集まっています。彼の復活を期待するファンも多く、今後の展開に目が離せません。  \\n\\n### 引用元\\n- 中居正広 - Wikipedia  \\n  https://ja.wikipedia.org/wiki/%E4%B8%AD%E5%B1%85%E6%AD%A3%E5%BA%83',\n",
       "  '## 導入\\n中居正広（なかいまさひろ）は、日本のエンターテインメント界において、特に影響力のある存在であり、かつてはアイドルグループSMAPのメンバーとして活躍していました。彼のキャリアは多岐にわたり、司会者、俳優、歌手として多くのファンに愛されています。しかし、最近では彼の活動やプライベートの問題に関するニュースが取り沙汰されています。\\n\\n## 中居正広のキャリア\\n中居正広は1972年8月18日に生まれ、1991年にSMAPの一員としてデビューしました。グループは多くのヒット曲を持ち、特に「世界に一つだけの花」は広く知られています。中居自身は「中居くん」として親しまれ、バラエティ番組の司会者としても高い評価を受けてきました。彼の特徴的なスタイルとユーモアは、多くの視聴者に愛され続けています。\\n\\n## 最近のトラブル\\n近年、中居正広は女性とのトラブルにより、活動を控えている状況に陥りました。2023年6月に発覚したこのトラブルは、彼が女性と食事中に発生した問題によるもので、報道によれば9000万円の解決金を支払ったとされています。特にこの問題はテレビ業界全体にも大きな影響を与え、特にフジテレビとの関係にも影響を及ぼしています。彼のタレント活動は一時期停滞していますが、その影響は今後も注目され続けるでしょう。\\n\\n## 現在の活動\\nしかし、暗いニュースだけではありません。中居正広は最近、絵本『♪ピンポンパンポンプー』を監修しました。この絵本は劇団ひとりがキャラクターデザインを担当し、古市憲寿の文によって描かれた作品です。結果として、売上が急上昇しており、彼のクリエイティブな側面が再評価されています。この新たな活動は、彼の復帰の一環として位置づけられるかもしれません。\\n\\n## まとめ\\n中居正広はエンターテインメント界で長い歴史を持つ人物であり、現在は波乱の時期を迎えています。彼のキャリアには光と影が交錯していますが、今後の動向と新たな挑戦に注目が集まっています。彼の復活を期待するファンも多く、今後の展開に目が離せません。',\n",
       "  '## 導入\\n中居正広（なかいまさひろ）は、日本のエンターテインメント界において、特に影響力のある存在であり、かつてはアイドルグループSMAPのメンバーとして活躍していました。彼のキャリアは多岐にわたり、司会者、俳優、歌手として多くのファンに愛されています。しかし、最近では彼の活動やプライベートの問題に関するニュースが取り沙汰されています。\\n\\n## 中居正広のキャリア\\n中居正広は1972年8月18日に生まれ、1991年にSMAPの一員としてデビューしました。グループは多くのヒット曲を持ち、特に「世界に一つだけの花」は広く知られています。中居自身は「中居くん」として親しまれ、バラエティ番組の司会者としても高い評価を受けてきました。彼の特徴的なスタイルとユーモアは、多くの視聴者に愛され続けています。\\n\\n## 最近のトラブル\\n近年、中居正広は女性とのトラブルが報じられ、一時的にタレント活動を休止する状況に陥りました。この問題の背景には、2023年6月に起きた女性との食事会があり、この際に女性が「性被害を受けた」と主張し、彼は約9000万円の解決金を支払ったとの報道があります。これにより、テレビ業界全体にも大きな影響を及ぼし、特にフジテレビとの関係にも波紋が広がっています。フジテレビは問題発覚後の対応で多くの批判を受け、同社のガバナンスが問われる事態となりました。 \\nこのトラブルの全容は今後も注目されるでしょう。\\n\\n## 現在の活動\\nしかし、暗いニュースだけではありません。中居正広は最近、絵本『♪ピンポンパンポンプー』を監修しました。この絵本は劇団ひとりがキャラクターデザインを担当し、古市憲寿の文によって描かれた作品です。発表以来、売上が急上昇していることも報じられており、それにより彼のクリエイティブな側面が再評価されています。この新たな挑戦は、彼のキャリアにとって重要な一歩となることでしょう。\\n\\n## まとめ\\n中居正広はエンターテインメント界で長い歴史を持つ人物であり、現在は波乱の時期を迎えています。彼のキャリアには光と影が交錯していますが、今後の動向と新たな挑戦に注目が集まっています。彼の復活を期待するファンも多く、今後の展開に目が離せません。'],\n",
       " 'iteration_count': 5}"
      ]
     },
     "execution_count": 172,
     "metadata": {},
     "output_type": "execute_result"
    }
   ],
   "source": [
    "output = app.invoke(initial_state)\n",
    "output"
   ]
  },
  {
   "cell_type": "markdown",
   "metadata": {},
   "source": [
    "ドキュメント化"
   ]
  },
  {
   "cell_type": "code",
   "execution_count": 152,
   "metadata": {},
   "outputs": [
    {
     "name": "stdout",
     "output_type": "stream",
     "text": [
      "ver7_中居正広の魅力とこれまでの軌跡.md に保存しました。\n"
     ]
    }
   ],
   "source": [
    "markdown_text = f\"\"\"\n",
    "{output['title']}\n",
    "\n",
    "{output['edit_result']}\n",
    "\n",
    "\"\"\"\n",
    "file_name = f\"{ver}_{output['title']}.md\"\n",
    "folder = \"記事格納\"\n",
    "file_path = os.path.join(folder, file_name)\n",
    "\n",
    "# Markdownファイルとして保存する（.mdの拡張子推奨）\n",
    "with open(file_path, \"w\", encoding=\"utf-8\") as file:\n",
    "    file.write(markdown_text)\n",
    "\n",
    "print(f\"{file_name} に保存しました。\")\n"
   ]
  },
  {
   "cell_type": "markdown",
   "metadata": {},
   "source": [
    "ストリーミングでの取得方法"
   ]
  },
  {
   "cell_type": "code",
   "execution_count": 151,
   "metadata": {},
   "outputs": [
    {
     "data": {
      "text/plain": [
       "'\\nfor event in app.stream(initial_state):\\n    for k, v in event.items():\\n        if k != \"__end__\":\\n            print(v)\\n'"
      ]
     },
     "execution_count": 151,
     "metadata": {},
     "output_type": "execute_result"
    }
   ],
   "source": [
    "'''\n",
    "for event in app.stream(initial_state):\n",
    "    for k, v in event.items():\n",
    "        if k != \"__end__\":\n",
    "            print(v)\n",
    "'''  "
   ]
  }
 ],
 "metadata": {
  "kernelspec": {
   "display_name": "Python 3",
   "language": "python",
   "name": "python3"
  },
  "language_info": {
   "codemirror_mode": {
    "name": "ipython",
    "version": 3
   },
   "file_extension": ".py",
   "mimetype": "text/x-python",
   "name": "python",
   "nbconvert_exporter": "python",
   "pygments_lexer": "ipython3",
   "version": "3.12.3"
  }
 },
 "nbformat": 4,
 "nbformat_minor": 2
}
